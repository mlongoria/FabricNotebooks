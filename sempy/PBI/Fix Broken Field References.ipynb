{
 "cells": [
  {
   "cell_type": "markdown",
   "id": "2244ba9c-2f90-4d33-9d47-467ce05be0d7",
   "metadata": {
    "microsoft": {
     "language": "python",
     "language_group": "synapse_pyspark"
    },
    "nteract": {
     "transient": {
      "deleting": false
     }
    }
   },
   "source": [
    "Use this notebook to fix broken field references in a report\n",
    "\n",
    "Written by: Meagan Longoria\n",
    "\n",
    "Last Updated: 6 Nov 2024\n",
    "\n",
    "Pre-reqs: You must be able to install the sempy_labs package in your environment or have an environment available with it already installed. Instructions for loading into a custom environment can be found [here](https://github.com/microsoft/semantic-link-labs?tab=readme-ov-file#load-semantic-link-labs-into-a-custom-fabric-environment). If you create a custom environment, you can comment out the next cell (which contains the install command).   \n",
    "\n",
    "Limitations: The report you search must use the PBIX (not PBIR) format.\n",
    "\n",
    "Instructions: \n",
    "1. If you have semantic-link-labs package pre-installed, skip the first code cell below. Otherwise, run the first code cell.\n",
    "2. Run the second code and third code cells.\n",
    "4. Enter the input values for the widgets below the third code cell. \n",
    "5. (Optional) Run the fourth code cell to see the report in its current state.\n",
    "6. Run the 5th, 6th, and 7th code cells to get the report json, replace the field names, and update the report json.\n",
    "7. (Optional) Run the 8th code to verify that the field has been switched in the report."
   ]
  },
  {
   "cell_type": "code",
   "execution_count": 1,
   "id": "4b97ff1f-ffff-4278-a9fc-0ba2b88fbc01",
   "metadata": {
    "jupyter": {
     "outputs_hidden": true
    },
    "microsoft": {
     "language": "python",
     "language_group": "synapse_pyspark"
    }
   },
   "outputs": [
    {
     "data": {
      "application/vnd.livy.statement-meta+json": {
       "execution_finish_time": "2024-11-07T18:39:55.4210315Z",
       "execution_start_time": "2024-11-07T18:39:00.037245Z",
       "livy_statement_state": "available",
       "normalized_state": "finished",
       "parent_msg_id": "c7d41ccd-1be2-467f-bc8a-e1a858716946",
       "queued_time": "2024-11-07T18:38:51.3028381Z",
       "session_id": "14acf573-f6db-4136-9d61-a88d1115bc48",
       "session_start_time": null,
       "spark_pool": null,
       "state": "finished",
       "statement_id": 8,
       "statement_ids": [
        3,
        4,
        5,
        6,
        7,
        8
       ]
      },
      "text/plain": [
       "StatementMeta(, 14acf573-f6db-4136-9d61-a88d1115bc48, 8, Finished, Available, Finished)"
      ]
     },
     "metadata": {},
     "output_type": "display_data"
    },
    {
     "name": "stdout",
     "output_type": "stream",
     "text": [
      "Collecting semantic-link-labs\n",
      "  Downloading semantic_link_labs-0.8.4-py3-none-any.whl.metadata (18 kB)\n",
      "Collecting semantic-link-sempy>=0.8.1 (from semantic-link-labs)\n",
      "  Downloading semantic_link_sempy-0.8.2-py3-none-any.whl.metadata (7.9 kB)\n",
      "Collecting anytree (from semantic-link-labs)\n",
      "  Downloading anytree-2.12.1-py3-none-any.whl.metadata (8.1 kB)\n",
      "Requirement already satisfied: powerbiclient in /home/trusted-service-user/cluster-env/trident_env/lib/python3.11/site-packages (from semantic-link-labs) (3.1.1)\n",
      "Collecting polib (from semantic-link-labs)\n",
      "  Downloading polib-1.2.0-py2.py3-none-any.whl.metadata (15 kB)\n",
      "Collecting azure.mgmt.resource (from semantic-link-labs)\n",
      "  Downloading azure_mgmt_resource-23.2.0-py3-none-any.whl.metadata (38 kB)\n",
      "Collecting jsonpath-ng (from semantic-link-labs)\n",
      "  Downloading jsonpath-ng-1.7.0.tar.gz (37 kB)\n",
      "  Installing build dependencies ... \u001b[?25l-\b \b\\\b \b|\b \b/\b \b-\b \b\\\b \bdone\n",
      "\u001b[?25h  Getting requirements to build wheel ... \u001b[?25l-\b \b\\\b \bdone\n",
      "\u001b[?25h  Installing backend dependencies ... \u001b[?25l-\b \b\\\b \b|\b \b/\b \bdone\n",
      "\u001b[?25h  Preparing metadata (pyproject.toml) ... \u001b[?25l-\b \b\\\b \bdone\n",
      "\u001b[?25hRequirement already satisfied: clr-loader>=0.2.5 in /home/trusted-service-user/cluster-env/trident_env/lib/python3.11/site-packages (from semantic-link-sempy>=0.8.1->semantic-link-labs) (0.2.5)\n",
      "Requirement already satisfied: graphviz>=0.20.1 in /home/trusted-service-user/cluster-env/trident_env/lib/python3.11/site-packages (from semantic-link-sempy>=0.8.1->semantic-link-labs) (0.20.1)\n",
      "Requirement already satisfied: pyarrow>=12.0.1 in /home/trusted-service-user/cluster-env/trident_env/lib/python3.11/site-packages (from semantic-link-sempy>=0.8.1->semantic-link-labs) (14.0.2)\n",
      "Requirement already satisfied: pythonnet>=3.0.1 in /home/trusted-service-user/cluster-env/trident_env/lib/python3.11/site-packages (from semantic-link-sempy>=0.8.1->semantic-link-labs) (3.0.1)\n",
      "Requirement already satisfied: scikit-learn>=1.2.2 in /home/trusted-service-user/cluster-env/trident_env/lib/python3.11/site-packages (from semantic-link-sempy>=0.8.1->semantic-link-labs) (1.2.2)\n",
      "Requirement already satisfied: setuptools>=68.2.2 in /home/trusted-service-user/cluster-env/trident_env/lib/python3.11/site-packages (from semantic-link-sempy>=0.8.1->semantic-link-labs) (68.2.2)\n",
      "Requirement already satisfied: tqdm>=4.65.0 in /home/trusted-service-user/cluster-env/trident_env/lib/python3.11/site-packages (from semantic-link-sempy>=0.8.1->semantic-link-labs) (4.65.0)\n",
      "Requirement already satisfied: six in /home/trusted-service-user/cluster-env/trident_env/lib/python3.11/site-packages (from anytree->semantic-link-labs) (1.16.0)\n",
      "Requirement already satisfied: isodate>=0.6.1 in /home/trusted-service-user/cluster-env/trident_env/lib/python3.11/site-packages (from azure.mgmt.resource->semantic-link-labs) (0.6.1)\n",
      "Requirement already satisfied: typing-extensions>=4.6.0 in /home/trusted-service-user/cluster-env/trident_env/lib/python3.11/site-packages (from azure.mgmt.resource->semantic-link-labs) (4.9.0)\n",
      "Collecting azure-common>=1.1 (from azure.mgmt.resource->semantic-link-labs)\n",
      "  Downloading azure_common-1.1.28-py2.py3-none-any.whl.metadata (5.0 kB)\n",
      "Collecting azure-mgmt-core>=1.3.2 (from azure.mgmt.resource->semantic-link-labs)\n",
      "  Downloading azure_mgmt_core-1.5.0-py3-none-any.whl.metadata (4.3 kB)\n",
      "Requirement already satisfied: ply in /home/trusted-service-user/cluster-env/trident_env/lib/python3.11/site-packages (from jsonpath-ng->semantic-link-labs) (3.11)\n",
      "Requirement already satisfied: ipywidgets>=7.0.0 in /home/trusted-service-user/cluster-env/trident_env/lib/python3.11/site-packages (from powerbiclient->semantic-link-labs) (8.1.2)\n",
      "Requirement already satisfied: jupyter-ui-poll>=0.1.2 in /home/trusted-service-user/cluster-env/trident_env/lib/python3.11/site-packages (from powerbiclient->semantic-link-labs) (1.0.0)\n",
      "Requirement already satisfied: msal>=1.8.0 in /home/trusted-service-user/cluster-env/trident_env/lib/python3.11/site-packages (from powerbiclient->semantic-link-labs) (1.25.0)\n",
      "Requirement already satisfied: requests>=2.25.1 in /home/trusted-service-user/cluster-env/trident_env/lib/python3.11/site-packages (from powerbiclient->semantic-link-labs) (2.31.0)\n",
      "Requirement already satisfied: pandas in /home/trusted-service-user/cluster-env/trident_env/lib/python3.11/site-packages (from powerbiclient->semantic-link-labs) (2.1.4)\n",
      "Requirement already satisfied: pyspark in /home/trusted-service-user/cluster-env/trident_env/lib/python3.11/site-packages (from powerbiclient->semantic-link-labs) (3.5.1.5.4.20240407)\n",
      "Collecting azure-core>=1.31.0 (from azure-mgmt-core>=1.3.2->azure.mgmt.resource->semantic-link-labs)\n",
      "  Downloading azure_core-1.32.0-py3-none-any.whl.metadata (39 kB)\n",
      "Requirement already satisfied: cffi>=1.13 in /home/trusted-service-user/cluster-env/trident_env/lib/python3.11/site-packages (from clr-loader>=0.2.5->semantic-link-sempy>=0.8.1->semantic-link-labs) (1.16.0)\n",
      "Requirement already satisfied: comm>=0.1.3 in /home/trusted-service-user/cluster-env/trident_env/lib/python3.11/site-packages (from ipywidgets>=7.0.0->powerbiclient->semantic-link-labs) (0.2.1)\n",
      "Requirement already satisfied: ipython>=6.1.0 in /home/trusted-service-user/cluster-env/trident_env/lib/python3.11/site-packages (from ipywidgets>=7.0.0->powerbiclient->semantic-link-labs) (8.20.0)\n",
      "Requirement already satisfied: traitlets>=4.3.1 in /home/trusted-service-user/cluster-env/trident_env/lib/python3.11/site-packages (from ipywidgets>=7.0.0->powerbiclient->semantic-link-labs) (5.7.1)\n",
      "Requirement already satisfied: widgetsnbextension~=4.0.10 in /home/trusted-service-user/cluster-env/trident_env/lib/python3.11/site-packages (from ipywidgets>=7.0.0->powerbiclient->semantic-link-labs) (4.0.10)\n",
      "Requirement already satisfied: jupyterlab-widgets~=3.0.10 in /home/trusted-service-user/cluster-env/trident_env/lib/python3.11/site-packages (from ipywidgets>=7.0.0->powerbiclient->semantic-link-labs) (3.0.10)\n",
      "Requirement already satisfied: PyJWT<3,>=1.0.0 in /home/trusted-service-user/cluster-env/trident_env/lib/python3.11/site-packages (from PyJWT[crypto]<3,>=1.0.0->msal>=1.8.0->powerbiclient->semantic-link-labs) (2.4.0)\n",
      "Requirement already satisfied: cryptography<44,>=0.6 in /home/trusted-service-user/cluster-env/trident_env/lib/python3.11/site-packages (from msal>=1.8.0->powerbiclient->semantic-link-labs) (42.0.2)\n",
      "Requirement already satisfied: numpy>=1.16.6 in /home/trusted-service-user/cluster-env/trident_env/lib/python3.11/site-packages (from pyarrow>=12.0.1->semantic-link-sempy>=0.8.1->semantic-link-labs) (1.26.4)\n",
      "Requirement already satisfied: charset-normalizer<4,>=2 in /home/trusted-service-user/cluster-env/trident_env/lib/python3.11/site-packages (from requests>=2.25.1->powerbiclient->semantic-link-labs) (2.0.4)\n",
      "Requirement already satisfied: idna<4,>=2.5 in /home/trusted-service-user/cluster-env/trident_env/lib/python3.11/site-packages (from requests>=2.25.1->powerbiclient->semantic-link-labs) (3.4)\n",
      "Requirement already satisfied: urllib3<3,>=1.21.1 in /home/trusted-service-user/cluster-env/trident_env/lib/python3.11/site-packages (from requests>=2.25.1->powerbiclient->semantic-link-labs) (2.1.0)\n",
      "Requirement already satisfied: certifi>=2017.4.17 in /home/trusted-service-user/cluster-env/trident_env/lib/python3.11/site-packages (from requests>=2.25.1->powerbiclient->semantic-link-labs) (2024.2.2)\n",
      "Requirement already satisfied: scipy>=1.3.2 in /home/trusted-service-user/cluster-env/trident_env/lib/python3.11/site-packages (from scikit-learn>=1.2.2->semantic-link-sempy>=0.8.1->semantic-link-labs) (1.11.4)\n",
      "Requirement already satisfied: joblib>=1.1.1 in /home/trusted-service-user/cluster-env/trident_env/lib/python3.11/site-packages (from scikit-learn>=1.2.2->semantic-link-sempy>=0.8.1->semantic-link-labs) (1.2.0)\n",
      "Requirement already satisfied: threadpoolctl>=2.0.0 in /home/trusted-service-user/cluster-env/trident_env/lib/python3.11/site-packages (from scikit-learn>=1.2.2->semantic-link-sempy>=0.8.1->semantic-link-labs) (2.2.0)\n",
      "Requirement already satisfied: python-dateutil>=2.8.2 in /home/trusted-service-user/cluster-env/trident_env/lib/python3.11/site-packages (from pandas->powerbiclient->semantic-link-labs) (2.8.2)\n",
      "Requirement already satisfied: pytz>=2020.1 in /home/trusted-service-user/cluster-env/trident_env/lib/python3.11/site-packages (from pandas->powerbiclient->semantic-link-labs) (2023.3.post1)\n",
      "Requirement already satisfied: tzdata>=2022.1 in /home/trusted-service-user/cluster-env/trident_env/lib/python3.11/site-packages (from pandas->powerbiclient->semantic-link-labs) (2023.3)\n",
      "Requirement already satisfied: py4j==0.10.9.7 in /home/trusted-service-user/cluster-env/trident_env/lib/python3.11/site-packages (from pyspark->powerbiclient->semantic-link-labs) (0.10.9.7)\n",
      "Requirement already satisfied: pycparser in /home/trusted-service-user/cluster-env/trident_env/lib/python3.11/site-packages (from cffi>=1.13->clr-loader>=0.2.5->semantic-link-sempy>=0.8.1->semantic-link-labs) (2.21)\n",
      "Requirement already satisfied: decorator in /home/trusted-service-user/cluster-env/trident_env/lib/python3.11/site-packages (from ipython>=6.1.0->ipywidgets>=7.0.0->powerbiclient->semantic-link-labs) (5.1.1)\n",
      "Requirement already satisfied: jedi>=0.16 in /home/trusted-service-user/cluster-env/trident_env/lib/python3.11/site-packages (from ipython>=6.1.0->ipywidgets>=7.0.0->powerbiclient->semantic-link-labs) (0.18.1)\n",
      "Requirement already satisfied: matplotlib-inline in /home/trusted-service-user/cluster-env/trident_env/lib/python3.11/site-packages (from ipython>=6.1.0->ipywidgets>=7.0.0->powerbiclient->semantic-link-labs) (0.1.6)\n",
      "Requirement already satisfied: prompt-toolkit<3.1.0,>=3.0.41 in /home/trusted-service-user/cluster-env/trident_env/lib/python3.11/site-packages (from ipython>=6.1.0->ipywidgets>=7.0.0->powerbiclient->semantic-link-labs) (3.0.43)\n",
      "Requirement already satisfied: pygments>=2.4.0 in /home/trusted-service-user/cluster-env/trident_env/lib/python3.11/site-packages (from ipython>=6.1.0->ipywidgets>=7.0.0->powerbiclient->semantic-link-labs) (2.15.1)\n",
      "Requirement already satisfied: stack-data in /home/trusted-service-user/cluster-env/trident_env/lib/python3.11/site-packages (from ipython>=6.1.0->ipywidgets>=7.0.0->powerbiclient->semantic-link-labs) (0.2.0)\n",
      "Requirement already satisfied: pexpect>4.3 in /home/trusted-service-user/cluster-env/trident_env/lib/python3.11/site-packages (from ipython>=6.1.0->ipywidgets>=7.0.0->powerbiclient->semantic-link-labs) (4.8.0)\n",
      "Requirement already satisfied: parso<0.9.0,>=0.8.0 in /home/trusted-service-user/cluster-env/trident_env/lib/python3.11/site-packages (from jedi>=0.16->ipython>=6.1.0->ipywidgets>=7.0.0->powerbiclient->semantic-link-labs) (0.8.3)\n",
      "Requirement already satisfied: ptyprocess>=0.5 in /home/trusted-service-user/cluster-env/trident_env/lib/python3.11/site-packages (from pexpect>4.3->ipython>=6.1.0->ipywidgets>=7.0.0->powerbiclient->semantic-link-labs) (0.7.0)\n",
      "Requirement already satisfied: wcwidth in /home/trusted-service-user/cluster-env/trident_env/lib/python3.11/site-packages (from prompt-toolkit<3.1.0,>=3.0.41->ipython>=6.1.0->ipywidgets>=7.0.0->powerbiclient->semantic-link-labs) (0.2.5)\n",
      "Requirement already satisfied: executing in /home/trusted-service-user/cluster-env/trident_env/lib/python3.11/site-packages (from stack-data->ipython>=6.1.0->ipywidgets>=7.0.0->powerbiclient->semantic-link-labs) (0.8.3)\n",
      "Requirement already satisfied: asttokens in /home/trusted-service-user/cluster-env/trident_env/lib/python3.11/site-packages (from stack-data->ipython>=6.1.0->ipywidgets>=7.0.0->powerbiclient->semantic-link-labs) (2.0.5)\n",
      "Requirement already satisfied: pure-eval in /home/trusted-service-user/cluster-env/trident_env/lib/python3.11/site-packages (from stack-data->ipython>=6.1.0->ipywidgets>=7.0.0->powerbiclient->semantic-link-labs) (0.2.2)\n",
      "Downloading semantic_link_labs-0.8.4-py3-none-any.whl (601 kB)\n",
      "\u001b[2K   \u001b[90m━━━━━━━━━━━━━━━━━━━━━━━━━━━━━━━━━━━━━━━━\u001b[0m \u001b[32m601.2/601.2 kB\u001b[0m \u001b[31m1.9 MB/s\u001b[0m eta \u001b[36m0:00:00\u001b[0ma \u001b[36m0:00:01\u001b[0m\n",
      "\u001b[?25hDownloading semantic_link_sempy-0.8.2-py3-none-any.whl (3.0 MB)\n",
      "\u001b[2K   \u001b[90m━━━━━━━━━━━━━━━━━━━━━━━━━━━━━━━━━━━━━━━━\u001b[0m \u001b[32m3.0/3.0 MB\u001b[0m \u001b[31m2.0 MB/s\u001b[0m eta \u001b[36m0:00:00\u001b[0m00:01\u001b[0m00:01\u001b[0m\n",
      "\u001b[?25hDownloading anytree-2.12.1-py3-none-any.whl (44 kB)\n",
      "\u001b[2K   \u001b[90m━━━━━━━━━━━━━━━━━━━━━━━━━━━━━━━━━━━━━━━━\u001b[0m \u001b[32m44.9/44.9 kB\u001b[0m \u001b[31m2.6 MB/s\u001b[0m eta \u001b[36m0:00:00\u001b[0m\n",
      "\u001b[?25hDownloading azure_mgmt_resource-23.2.0-py3-none-any.whl (2.7 MB)\n",
      "\u001b[2K   \u001b[90m━━━━━━━━━━━━━━━━━━━━━━━━━━━━━━━━━━━━━━━━\u001b[0m \u001b[32m2.7/2.7 MB\u001b[0m \u001b[31m3.4 MB/s\u001b[0m eta \u001b[36m0:00:00\u001b[0m00:01\u001b[0m00:01\u001b[0m\n",
      "\u001b[?25hDownloading polib-1.2.0-py2.py3-none-any.whl (20 kB)\n",
      "Downloading azure_common-1.1.28-py2.py3-none-any.whl (14 kB)\n",
      "Downloading azure_mgmt_core-1.5.0-py3-none-any.whl (30 kB)\n",
      "Downloading azure_core-1.32.0-py3-none-any.whl (198 kB)\n",
      "\u001b[2K   \u001b[90m━━━━━━━━━━━━━━━━━━━━━━━━━━━━━━━━━━━━━━━━\u001b[0m \u001b[32m198.9/198.9 kB\u001b[0m \u001b[31m4.1 MB/s\u001b[0m eta \u001b[36m0:00:00\u001b[0ma \u001b[36m0:00:01\u001b[0m\n",
      "\u001b[?25hBuilding wheels for collected packages: jsonpath-ng\n",
      "  Building wheel for jsonpath-ng (pyproject.toml) ... \u001b[?25l-\b \b\\\b \b|\b \b/\b \bdone\n",
      "\u001b[?25h  Created wheel for jsonpath-ng: filename=jsonpath_ng-1.7.0-py3-none-any.whl size=30099 sha256=8d5a3ba217e69d1c349aef362a882471dc0fc8dd4d95f01d9516897881fb5b85\n",
      "  Stored in directory: /home/trusted-service-user/.cache/pip/wheels/6b/47/94/d8ae7a868e6642221f5caa53d6aedce4ff138c76c9f031a3da\n",
      "Successfully built jsonpath-ng\n",
      "Installing collected packages: polib, azure-common, jsonpath-ng, anytree, azure-core, azure-mgmt-core, semantic-link-sempy, azure.mgmt.resource, semantic-link-labs\n",
      "  Attempting uninstall: azure-core\n",
      "    Found existing installation: azure-core 1.30.2\n",
      "    Not uninstalling azure-core at /home/trusted-service-user/cluster-env/trident_env/lib/python3.11/site-packages, outside environment /nfs4/pyenv-bacf3eb9-81f0-4980-9b29-b81fecd025d9\n",
      "    Can't uninstall 'azure-core'. No files were found to uninstall.\n",
      "  Attempting uninstall: semantic-link-sempy\n",
      "    Found existing installation: semantic-link-sempy 0.8.0\n",
      "    Not uninstalling semantic-link-sempy at /home/trusted-service-user/cluster-env/trident_env/lib/python3.11/site-packages, outside environment /nfs4/pyenv-bacf3eb9-81f0-4980-9b29-b81fecd025d9\n",
      "    Can't uninstall 'semantic-link-sempy'. No files were found to uninstall.\n",
      "\u001b[31mERROR: pip's dependency resolver does not currently take into account all the packages that are installed. This behaviour is the source of the following dependency conflicts.\n",
      "fsspec-wrapper 0.1.14 requires PyJWT>=2.6.0, but you have pyjwt 2.4.0 which is incompatible.\u001b[0m\u001b[31m\n",
      "\u001b[0mSuccessfully installed anytree-2.12.1 azure-common-1.1.28 azure-core-1.32.0 azure-mgmt-core-1.5.0 azure.mgmt.resource-23.2.0 jsonpath-ng-1.7.0 polib-1.2.0 semantic-link-labs-0.8.4 semantic-link-sempy-0.8.2\n",
      "\n",
      "\u001b[1m[\u001b[0m\u001b[34;49mnotice\u001b[0m\u001b[1;39;49m]\u001b[0m\u001b[39;49m A new release of pip is available: \u001b[0m\u001b[31;49m24.0\u001b[0m\u001b[39;49m -> \u001b[0m\u001b[32;49m24.3.1\u001b[0m\n",
      "\u001b[1m[\u001b[0m\u001b[34;49mnotice\u001b[0m\u001b[1;39;49m]\u001b[0m\u001b[39;49m To update, run: \u001b[0m\u001b[32;49mpython -m pip install --upgrade pip\u001b[0m\n",
      "Note: you may need to restart the kernel to use updated packages.\n",
      "Warning: PySpark kernel has been restarted to use updated packages.\n",
      "\n"
     ]
    }
   ],
   "source": [
    "# 1 - install semantic-link-labs\n",
    "# Comment out or skip if you have a custom environment with semantic-link-labs pre-installed\n",
    "%pip install semantic-link-labs"
   ]
  },
  {
   "cell_type": "code",
   "execution_count": 2,
   "id": "1865c2ba-11d8-45d9-bc74-5a29573c6251",
   "metadata": {
    "jupyter": {
     "outputs_hidden": false,
     "source_hidden": false
    },
    "microsoft": {
     "language": "python",
     "language_group": "synapse_pyspark"
    },
    "nteract": {
     "transient": {
      "deleting": false
     }
    }
   },
   "outputs": [
    {
     "data": {
      "application/vnd.livy.statement-meta+json": {
       "execution_finish_time": "2024-11-07T18:40:14.5506461Z",
       "execution_start_time": "2024-11-07T18:40:02.3529191Z",
       "livy_statement_state": "available",
       "normalized_state": "finished",
       "parent_msg_id": "59946c24-c387-49ae-bd5e-4b81f769b919",
       "queued_time": "2024-11-07T18:38:53.5160475Z",
       "session_id": "14acf573-f6db-4136-9d61-a88d1115bc48",
       "session_start_time": null,
       "spark_pool": null,
       "state": "finished",
       "statement_id": 10,
       "statement_ids": [
        10
       ]
      },
      "text/plain": [
       "StatementMeta(, 14acf573-f6db-4136-9d61-a88d1115bc48, 10, Finished, Available, Finished)"
      ]
     },
     "metadata": {},
     "output_type": "display_data"
    }
   ],
   "source": [
    "# 2 - import required modules\n",
    "import sempy_labs as labs\n",
    "from sempy_labs import report as rep\n",
    "from sempy_labs.report import ReportWrapper\n",
    "\n",
    "import ipywidgets as widgets\n",
    "\n",
    "import json\n",
    "\n",
    "import re "
   ]
  },
  {
   "cell_type": "code",
   "execution_count": 3,
   "id": "a05387c0-832f-466d-ba22-cca16bf2989d",
   "metadata": {
    "jupyter": {
     "outputs_hidden": false,
     "source_hidden": false
    },
    "microsoft": {
     "language": "python",
     "language_group": "synapse_pyspark"
    },
    "nteract": {
     "transient": {
      "deleting": false
     }
    }
   },
   "outputs": [
    {
     "data": {
      "application/vnd.livy.statement-meta+json": {
       "execution_finish_time": "2024-11-07T18:40:29.1354921Z",
       "execution_start_time": "2024-11-07T18:40:25.3761033Z",
       "livy_statement_state": "available",
       "normalized_state": "finished",
       "parent_msg_id": "59994bfc-234e-4220-911e-e2cfc08c1af5",
       "queued_time": "2024-11-07T18:40:24.8654485Z",
       "session_id": "14acf573-f6db-4136-9d61-a88d1115bc48",
       "session_start_time": null,
       "spark_pool": null,
       "state": "finished",
       "statement_id": 11,
       "statement_ids": [
        11
       ]
      },
      "text/plain": [
       "StatementMeta(, 14acf573-f6db-4136-9d61-a88d1115bc48, 11, Finished, Available, Finished)"
      ]
     },
     "metadata": {},
     "output_type": "display_data"
    },
    {
     "data": {
      "application/vnd.jupyter.widget-view+json": {
       "model_id": "2e2fd57154e44f43b1138999291f3989",
       "version_major": 2,
       "version_minor": 0
      },
      "text/plain": [
       "Text(value='', description='Report:')"
      ]
     },
     "metadata": {},
     "output_type": "display_data"
    },
    {
     "data": {
      "application/vnd.jupyter.widget-view+json": {
       "model_id": "12b8a1a6d05a4977b725174d87bcb075",
       "version_major": 2,
       "version_minor": 0
      },
      "text/plain": [
       "Text(value='', description='Workspace:')"
      ]
     },
     "metadata": {},
     "output_type": "display_data"
    },
    {
     "data": {
      "application/vnd.jupyter.widget-view+json": {
       "model_id": "90d31bdc647847f7860bf95f5877d94a",
       "version_major": 2,
       "version_minor": 0
      },
      "text/plain": [
       "Text(value='', description='Original field:')"
      ]
     },
     "metadata": {},
     "output_type": "display_data"
    },
    {
     "data": {
      "application/vnd.jupyter.widget-view+json": {
       "model_id": "593cb047e6104fc2b78f12c199e4b5b2",
       "version_major": 2,
       "version_minor": 0
      },
      "text/plain": [
       "Text(value='', description='New field:')"
      ]
     },
     "metadata": {},
     "output_type": "display_data"
    }
   ],
   "source": [
    "# 3 - create widgets\n",
    "# You must complete all four widgets\n",
    "w_report = widgets.Text(value='', description='Report:');\n",
    "w_workspace = widgets.Text(value = '', description = 'Workspace:'); \n",
    "w_orgfield = widgets.Text(value = '', description = 'Original field:'); \n",
    "w_newfield = widgets.Text(value = '', description = 'New field:'); \n",
    "\n",
    "\n",
    "\n",
    "display(w_report)\n",
    "display(w_workspace)\n",
    "display(w_orgfield)\n",
    "display(w_newfield)\n"
   ]
  },
  {
   "cell_type": "code",
   "execution_count": 21,
   "id": "53201b94-42a6-40f4-8185-2933afecca56",
   "metadata": {
    "jupyter": {
     "outputs_hidden": false,
     "source_hidden": false
    },
    "microsoft": {
     "language": "python",
     "language_group": "synapse_pyspark"
    },
    "nteract": {
     "transient": {
      "deleting": false
     }
    }
   },
   "outputs": [
    {
     "data": {
      "application/vnd.livy.statement-meta+json": {
       "execution_finish_time": "2024-11-07T18:55:27.7240629Z",
       "execution_start_time": "2024-11-07T18:55:26.8814285Z",
       "livy_statement_state": "available",
       "normalized_state": "finished",
       "parent_msg_id": "5cf73e3f-f98d-471c-8728-8ba5573e7a6c",
       "queued_time": "2024-11-07T18:55:26.1718026Z",
       "session_id": "14acf573-f6db-4136-9d61-a88d1115bc48",
       "session_start_time": null,
       "spark_pool": null,
       "state": "finished",
       "statement_id": 50,
       "statement_ids": [
        50
       ]
      },
      "text/plain": [
       "StatementMeta(, 14acf573-f6db-4136-9d61-a88d1115bc48, 50, Finished, Available, Finished)"
      ]
     },
     "metadata": {},
     "output_type": "display_data"
    },
    {
     "data": {
      "application/vnd.jupyter.widget-view+json": {
       "model_id": "e4c62e4aff0a427380d2910ceda8c9fc",
       "version_major": 2,
       "version_minor": 0
      },
      "text/plain": [
       "Report()"
      ]
     },
     "execution_count": 130,
     "metadata": {},
     "output_type": "execute_result"
    }
   ],
   "source": [
    "# 4 - Show report\n",
    "if w_report.value == '' or w_workspace.value =='':\n",
    "    raise Exception(\"Please provide both a report and workspace in the widgets above.\")\n",
    "\n",
    "rep.launch_report(report=w_report.value, workspace=w_workspace.value)"
   ]
  },
  {
   "cell_type": "code",
   "execution_count": 17,
   "id": "a26cb07d-dbd5-47f1-8bee-516aa8506900",
   "metadata": {
    "jupyter": {
     "outputs_hidden": false,
     "source_hidden": false
    },
    "microsoft": {
     "language": "python",
     "language_group": "synapse_pyspark"
    },
    "nteract": {
     "transient": {
      "deleting": false
     }
    }
   },
   "outputs": [
    {
     "data": {
      "application/vnd.livy.statement-meta+json": {
       "execution_finish_time": "2024-11-07T18:53:13.3354258Z",
       "execution_start_time": "2024-11-07T18:53:10.835916Z",
       "livy_statement_state": "available",
       "normalized_state": "finished",
       "parent_msg_id": "27c60619-43db-480b-be78-46b6de1331e5",
       "queued_time": "2024-11-07T18:53:10.35861Z",
       "session_id": "14acf573-f6db-4136-9d61-a88d1115bc48",
       "session_start_time": null,
       "spark_pool": null,
       "state": "finished",
       "statement_id": 44,
       "statement_ids": [
        44
       ]
      },
      "text/plain": [
       "StatementMeta(, 14acf573-f6db-4136-9d61-a88d1115bc48, 44, Finished, Available, Finished)"
      ]
     },
     "metadata": {},
     "output_type": "display_data"
    },
    {
     "name": "stdout",
     "output_type": "stream",
     "text": [
      "Field Replace\n"
     ]
    },
    {
     "data": {
      "text/plain": [
       "{'config': '{\"version\":\"5.59\",\"themeCollection\":{\"baseTheme\":{\"name\":\"CY24SU10\",\"version\":\"5.59\",\"type\":2}},\"activeSectionIndex\":0,\"defaultDrillFilterOtherVisuals\":true,\"linguisticSchemaSyncVersion\":0,\"settings\":{\"useNewFilterPaneExperience\":true,\"allowChangeFilterTypes\":true,\"useStylableVisualContainerHeader\":true,\"queryLimitOption\":6,\"useEnhancedTooltips\":true,\"exportDataMode\":1,\"useDefaultAggregateDisplayName\":true},\"objects\":{\"section\":[{\"properties\":{\"verticalAlignment\":{\"expr\":{\"Literal\":{\"Value\":\"\\'Top\\'\"}}}}}]}}',\n",
       " 'layoutOptimization': 0,\n",
       " 'resourcePackages': [{'resourcePackage': {'disabled': False,\n",
       "    'items': [{'name': 'CY24SU10',\n",
       "      'path': 'BaseThemes/CY24SU10.json',\n",
       "      'type': 202}],\n",
       "    'name': 'SharedResources',\n",
       "    'type': 2}}],\n",
       " 'sections': [{'config': '{}',\n",
       "   'displayName': 'Page 1',\n",
       "   'displayOption': 1,\n",
       "   'filters': '[]',\n",
       "   'height': 720.0,\n",
       "   'name': 'cad134d8ab2baa8ad1ed',\n",
       "   'visualContainers': [{'config': '{\"name\":\"409da3bc953ca955cbcf\",\"layouts\":[{\"id\":0,\"position\":{\"x\":19.211042061006047,\"y\":20.58325935107791,\"z\":0,\"width\":511.837049196804,\"height\":371.8708856094742,\"tabOrder\":0}}],\"singleVisual\":{\"visualType\":\"clusteredBarChart\",\"projections\":{\"Category\":[{\"queryRef\":\"Fake Sales.Category\",\"active\":true}],\"Y\":[{\"queryRef\":\"Fake Sales.Profit2\"},{\"queryRef\":\"Sum(Fake Sales.Sales)\"}]},\"prototypeQuery\":{\"Version\":2,\"From\":[{\"Name\":\"f\",\"Entity\":\"Fake Sales\",\"Type\":0}],\"Select\":[{\"Column\":{\"Expression\":{\"SourceRef\":{\"Source\":\"f\"}},\"Property\":\"Category\"},\"Name\":\"Fake Sales.Category\",\"NativeReferenceName\":\"Category\"},{\"Measure\":{\"Expression\":{\"SourceRef\":{\"Source\":\"f\"}},\"Property\":\"Profit2\"},\"Name\":\"Fake Sales.Profit2\",\"NativeReferenceName\":\"Profit2\"},{\"Aggregation\":{\"Expression\":{\"Column\":{\"Expression\":{\"SourceRef\":{\"Source\":\"f\"}},\"Property\":\"Sales\"}},\"Function\":0},\"Name\":\"Sum(Fake Sales.Sales)\",\"NativeReferenceName\":\"Sum of Sales\"}],\"OrderBy\":[{\"Direction\":2,\"Expression\":{\"Measure\":{\"Expression\":{\"SourceRef\":{\"Source\":\"f\"}},\"Property\":\"Profit2\"}}}]},\"drillFilterOtherVisuals\":true,\"hasDefaultSort\":true}}',\n",
       "     'filters': '[]',\n",
       "     'height': 371.87,\n",
       "     'width': 511.84,\n",
       "     'x': 19.21,\n",
       "     'y': 20.58,\n",
       "     'z': 0.0},\n",
       "    {'config': '{\"name\":\"91436c33752a313b29b5\",\"layouts\":[{\"id\":0,\"position\":{\"x\":716.2974254175112,\"y\":20.58325935107791,\"z\":1000,\"width\":511.837049196804,\"height\":338.93767064774954,\"tabOrder\":1000}}],\"singleVisual\":{\"visualType\":\"columnChart\",\"projections\":{\"Category\":[{\"queryRef\":\"Fake Sales.Category\",\"active\":true}],\"Y\":[{\"queryRef\":\"Fake Sales.Proft - New\"}]},\"prototypeQuery\":{\"Version\":2,\"From\":[{\"Name\":\"f\",\"Entity\":\"Fake Sales\",\"Type\":0}],\"Select\":[{\"Column\":{\"Expression\":{\"SourceRef\":{\"Source\":\"f\"}},\"Property\":\"Category\"},\"Name\":\"Fake Sales.Category\",\"NativeReferenceName\":\"Category\"},{\"Measure\":{\"Expression\":{\"SourceRef\":{\"Source\":\"f\"}},\"Property\":\"Profit - New\"},\"Name\":\"Fake Sales.Proft - New\",\"NativeReferenceName\":\"Profit - New\"}],\"OrderBy\":[{\"Direction\":2,\"Expression\":{\"Measure\":{\"Expression\":{\"SourceRef\":{\"Source\":\"f\"}},\"Property\":\"Profit - New\"}}}]},\"drillFilterOtherVisuals\":true,\"hasDefaultSort\":true}}',\n",
       "     'filters': '[]',\n",
       "     'height': 338.94,\n",
       "     'width': 511.84,\n",
       "     'x': 716.3,\n",
       "     'y': 20.58,\n",
       "     'z': 1000.0}],\n",
       "   'width': 1280.0}]}"
      ]
     },
     "execution_count": 112,
     "metadata": {},
     "output_type": "execute_result"
    }
   ],
   "source": [
    "# 5 - Get report JSON\n",
    "if w_report.value == '' or w_workspace.value =='':\n",
    "    raise Exception(\"Please provide both a report and workspace in the widgets above.\")\n",
    "\n",
    "print(w_report.value)\n",
    "old_report_json = rep.get_report_json(w_report.value)\n",
    "old_report_json"
   ]
  },
  {
   "cell_type": "code",
   "execution_count": null,
   "id": "f9e198ca-543a-41fa-a1c8-4fa4ef4e31c8",
   "metadata": {
    "jupyter": {
     "outputs_hidden": false,
     "source_hidden": false
    },
    "microsoft": {
     "language": "python",
     "language_group": "synapse_pyspark"
    },
    "nteract": {
     "transient": {
      "deleting": false
     }
    }
   },
   "outputs": [
    {
     "data": {
      "application/vnd.livy.statement-meta+json": {
       "execution_finish_time": "2024-11-07T18:53:18.7397694Z",
       "execution_start_time": "2024-11-07T18:53:18.4986535Z",
       "livy_statement_state": "available",
       "normalized_state": "finished",
       "parent_msg_id": "2c4a64f9-95d4-4e57-bcc9-3798526e2c3f",
       "queued_time": "2024-11-07T18:53:18.0477738Z",
       "session_id": "14acf573-f6db-4136-9d61-a88d1115bc48",
       "session_start_time": null,
       "spark_pool": null,
       "state": "finished",
       "statement_id": 45,
       "statement_ids": [
        45
       ]
      },
      "text/plain": [
       "StatementMeta(, 14acf573-f6db-4136-9d61-a88d1115bc48, 45, Finished, Available, Finished)"
      ]
     },
     "metadata": {},
     "output_type": "display_data"
    },
    {
     "name": "stdout",
     "output_type": "stream",
     "text": [
      "Profit2\\\"\n",
      "Profit - New\\\"\n"
     ]
    },
    {
     "data": {
      "text/plain": [
       "{'config': '{\"version\":\"5.59\",\"themeCollection\":{\"baseTheme\":{\"name\":\"CY24SU10\",\"version\":\"5.59\",\"type\":2}},\"activeSectionIndex\":0,\"defaultDrillFilterOtherVisuals\":true,\"linguisticSchemaSyncVersion\":0,\"settings\":{\"useNewFilterPaneExperience\":true,\"allowChangeFilterTypes\":true,\"useStylableVisualContainerHeader\":true,\"queryLimitOption\":6,\"useEnhancedTooltips\":true,\"exportDataMode\":1,\"useDefaultAggregateDisplayName\":true},\"objects\":{\"section\":[{\"properties\":{\"verticalAlignment\":{\"expr\":{\"Literal\":{\"Value\":\"\\'Top\\'\"}}}}}]}}',\n",
       " 'layoutOptimization': 0,\n",
       " 'resourcePackages': [{'resourcePackage': {'disabled': False,\n",
       "    'items': [{'name': 'CY24SU10',\n",
       "      'path': 'BaseThemes/CY24SU10.json',\n",
       "      'type': 202}],\n",
       "    'name': 'SharedResources',\n",
       "    'type': 2}}],\n",
       " 'sections': [{'config': '{}',\n",
       "   'displayName': 'Page 1',\n",
       "   'displayOption': 1,\n",
       "   'filters': '[]',\n",
       "   'height': 720.0,\n",
       "   'name': 'cad134d8ab2baa8ad1ed',\n",
       "   'visualContainers': [{'config': '{\"name\":\"409da3bc953ca955cbcf\",\"layouts\":[{\"id\":0,\"position\":{\"x\":19.211042061006047,\"y\":20.58325935107791,\"z\":0,\"width\":511.837049196804,\"height\":371.8708856094742,\"tabOrder\":0}}],\"singleVisual\":{\"visualType\":\"clusteredBarChart\",\"projections\":{\"Category\":[{\"queryRef\":\"Fake Sales.Category\",\"active\":true}],\"Y\":[{\"queryRef\":\"Fake Sales.Profit - New\"},{\"queryRef\":\"Sum(Fake Sales.Sales)\"}]},\"prototypeQuery\":{\"Version\":2,\"From\":[{\"Name\":\"f\",\"Entity\":\"Fake Sales\",\"Type\":0}],\"Select\":[{\"Column\":{\"Expression\":{\"SourceRef\":{\"Source\":\"f\"}},\"Property\":\"Category\"},\"Name\":\"Fake Sales.Category\",\"NativeReferenceName\":\"Category\"},{\"Measure\":{\"Expression\":{\"SourceRef\":{\"Source\":\"f\"}},\"Property\":\"Profit - New\"},\"Name\":\"Fake Sales.Profit - New\",\"NativeReferenceName\":\"Profit - New\"},{\"Aggregation\":{\"Expression\":{\"Column\":{\"Expression\":{\"SourceRef\":{\"Source\":\"f\"}},\"Property\":\"Sales\"}},\"Function\":0},\"Name\":\"Sum(Fake Sales.Sales)\",\"NativeReferenceName\":\"Sum of Sales\"}],\"OrderBy\":[{\"Direction\":2,\"Expression\":{\"Measure\":{\"Expression\":{\"SourceRef\":{\"Source\":\"f\"}},\"Property\":\"Profit - New\"}}}]},\"drillFilterOtherVisuals\":true,\"hasDefaultSort\":true}}',\n",
       "     'filters': '[]',\n",
       "     'height': 371.87,\n",
       "     'width': 511.84,\n",
       "     'x': 19.21,\n",
       "     'y': 20.58,\n",
       "     'z': 0.0},\n",
       "    {'config': '{\"name\":\"91436c33752a313b29b5\",\"layouts\":[{\"id\":0,\"position\":{\"x\":716.2974254175112,\"y\":20.58325935107791,\"z\":1000,\"width\":511.837049196804,\"height\":338.93767064774954,\"tabOrder\":1000}}],\"singleVisual\":{\"visualType\":\"columnChart\",\"projections\":{\"Category\":[{\"queryRef\":\"Fake Sales.Category\",\"active\":true}],\"Y\":[{\"queryRef\":\"Fake Sales.Proft - New\"}]},\"prototypeQuery\":{\"Version\":2,\"From\":[{\"Name\":\"f\",\"Entity\":\"Fake Sales\",\"Type\":0}],\"Select\":[{\"Column\":{\"Expression\":{\"SourceRef\":{\"Source\":\"f\"}},\"Property\":\"Category\"},\"Name\":\"Fake Sales.Category\",\"NativeReferenceName\":\"Category\"},{\"Measure\":{\"Expression\":{\"SourceRef\":{\"Source\":\"f\"}},\"Property\":\"Profit - New\"},\"Name\":\"Fake Sales.Proft - New\",\"NativeReferenceName\":\"Profit - New\"}],\"OrderBy\":[{\"Direction\":2,\"Expression\":{\"Measure\":{\"Expression\":{\"SourceRef\":{\"Source\":\"f\"}},\"Property\":\"Profit - New\"}}}]},\"drillFilterOtherVisuals\":true,\"hasDefaultSort\":true}}',\n",
       "     'filters': '[]',\n",
       "     'height': 338.94,\n",
       "     'width': 511.84,\n",
       "     'x': 716.3,\n",
       "     'y': 20.58,\n",
       "     'z': 1000.0}],\n",
       "   'width': 1280.0}]}"
      ]
     },
     "execution_count": 115,
     "metadata": {},
     "output_type": "execute_result"
    }
   ],
   "source": [
    "# 6 - replace old field with new field\n",
    "\n",
    "if w_orgfield.value == '' or w_newfield.value =='':\n",
    "    raise Exception(\"Please provide both the current (missing) field and new field names.\")\n",
    "\n",
    "currval = w_orgfield.value + '\\\\\"' \n",
    "newval = w_newfield.value + '\\\\\"'\n",
    "print(rf'{currval}')\n",
    "print(rf'{newval}')\n",
    "\n",
    "new_report_json = json.loads(\n",
    "    json.dumps(old_report_json)\n",
    "        .replace(rf'{currval}', rf'{newval}')\n",
    ")\n",
    "\n",
    "\n",
    "new_report_json"
   ]
  },
  {
   "cell_type": "code",
   "execution_count": 19,
   "id": "3b982a78-a79b-4b29-8c87-901ab3e424bd",
   "metadata": {
    "jupyter": {
     "outputs_hidden": false,
     "source_hidden": false
    },
    "microsoft": {
     "language": "python",
     "language_group": "synapse_pyspark"
    },
    "nteract": {
     "transient": {
      "deleting": false
     }
    }
   },
   "outputs": [
    {
     "data": {
      "application/vnd.livy.statement-meta+json": {
       "execution_finish_time": "2024-11-07T18:55:10.4587975Z",
       "execution_start_time": "2024-11-07T18:55:05.6416783Z",
       "livy_statement_state": "available",
       "normalized_state": "finished",
       "parent_msg_id": "c71ee042-8f13-42fa-86ec-8ee549831ca4",
       "queued_time": "2024-11-07T18:55:04.925395Z",
       "session_id": "14acf573-f6db-4136-9d61-a88d1115bc48",
       "session_start_time": null,
       "spark_pool": null,
       "state": "finished",
       "statement_id": 46,
       "statement_ids": [
        46
       ]
      },
      "text/plain": [
       "StatementMeta(, 14acf573-f6db-4136-9d61-a88d1115bc48, 46, Finished, Available, Finished)"
      ]
     },
     "metadata": {},
     "output_type": "display_data"
    },
    {
     "name": "stdout",
     "output_type": "stream",
     "text": [
      "🟢 The 'Field Replace' report within the 'Semantic Link' workspace has been successfully updated.\n"
     ]
    }
   ],
   "source": [
    "# 7 - Update the report json\n",
    "rep.update_report_from_reportjson(\n",
    "    report = w_report.value, \n",
    "    report_json = new_report_json, \n",
    "    workspace= w_workspace.value\n",
    ")"
   ]
  },
  {
   "cell_type": "code",
   "execution_count": 20,
   "id": "a3dbbde6-d68a-4a39-a6bc-e24c97c1671d",
   "metadata": {
    "jupyter": {
     "outputs_hidden": false,
     "source_hidden": false
    },
    "microsoft": {
     "language": "python",
     "language_group": "synapse_pyspark"
    },
    "nteract": {
     "transient": {
      "deleting": false
     }
    }
   },
   "outputs": [
    {
     "data": {
      "application/vnd.livy.statement-meta+json": {
       "execution_finish_time": "2024-11-07T18:55:13.5622623Z",
       "execution_start_time": "2024-11-07T18:55:12.7311288Z",
       "livy_statement_state": "available",
       "normalized_state": "finished",
       "parent_msg_id": "b85ad932-fd29-4450-b2cd-ba9a53b4f5dd",
       "queued_time": "2024-11-07T18:55:12.283943Z",
       "session_id": "14acf573-f6db-4136-9d61-a88d1115bc48",
       "session_start_time": null,
       "spark_pool": null,
       "state": "finished",
       "statement_id": 47,
       "statement_ids": [
        47
       ]
      },
      "text/plain": [
       "StatementMeta(, 14acf573-f6db-4136-9d61-a88d1115bc48, 47, Finished, Available, Finished)"
      ]
     },
     "metadata": {},
     "output_type": "display_data"
    },
    {
     "data": {
      "application/vnd.jupyter.widget-view+json": {
       "model_id": "bb5289bc2ac34adbb24c36f1b9330900",
       "version_major": 2,
       "version_minor": 0
      },
      "text/plain": [
       "Report()"
      ]
     },
     "execution_count": 121,
     "metadata": {},
     "output_type": "execute_result"
    },
    {
     "data": {
      "application/vnd.livy.statement-meta+json": {
       "execution_finish_time": "2024-11-07T18:55:15.5309961Z",
       "execution_start_time": "2024-11-07T18:55:15.2941526Z",
       "livy_statement_state": "available",
       "normalized_state": "finished",
       "parent_msg_id": "15993429-17b6-4664-bded-3e4e610a512c",
       "queued_time": "2024-11-07T18:55:14.8640479Z",
       "session_id": "14acf573-f6db-4136-9d61-a88d1115bc48",
       "session_start_time": null,
       "spark_pool": null,
       "state": "finished",
       "statement_id": 48,
       "statement_ids": [
        48
       ]
      },
      "text/plain": [
       "StatementMeta(, 14acf573-f6db-4136-9d61-a88d1115bc48, 48, Finished, Available, Finished)"
      ]
     },
     "metadata": {},
     "output_type": "display_data"
    },
    {
     "data": {
      "application/vnd.livy.statement-meta+json": {
       "execution_finish_time": "2024-11-07T18:55:17.7603443Z",
       "execution_start_time": "2024-11-07T18:55:17.5137132Z",
       "livy_statement_state": "available",
       "normalized_state": "finished",
       "parent_msg_id": "4f73f3c7-f89c-49c8-a8ea-5de85ed25fcc",
       "queued_time": "2024-11-07T18:55:17.0668767Z",
       "session_id": "14acf573-f6db-4136-9d61-a88d1115bc48",
       "session_start_time": null,
       "spark_pool": null,
       "state": "finished",
       "statement_id": 49,
       "statement_ids": [
        49
       ]
      },
      "text/plain": [
       "StatementMeta(, 14acf573-f6db-4136-9d61-a88d1115bc48, 49, Finished, Available, Finished)"
      ]
     },
     "metadata": {},
     "output_type": "display_data"
    },
    {
     "data": {
      "application/vnd.livy.statement-meta+json": {
       "execution_finish_time": "2024-11-07T18:55:29.9252136Z",
       "execution_start_time": "2024-11-07T18:55:29.6611152Z",
       "livy_statement_state": "available",
       "normalized_state": "finished",
       "parent_msg_id": "b216c9a2-b607-4e1e-a89c-bba2ed20ade2",
       "queued_time": "2024-11-07T18:55:28.9759106Z",
       "session_id": "14acf573-f6db-4136-9d61-a88d1115bc48",
       "session_start_time": null,
       "spark_pool": null,
       "state": "finished",
       "statement_id": 51,
       "statement_ids": [
        51
       ]
      },
      "text/plain": [
       "StatementMeta(, 14acf573-f6db-4136-9d61-a88d1115bc48, 51, Finished, Available, Finished)"
      ]
     },
     "metadata": {},
     "output_type": "display_data"
    },
    {
     "data": {
      "application/vnd.livy.statement-meta+json": {
       "execution_finish_time": "2024-11-07T18:55:32.1463815Z",
       "execution_start_time": "2024-11-07T18:55:31.8536099Z",
       "livy_statement_state": "available",
       "normalized_state": "finished",
       "parent_msg_id": "f2be2233-b86c-4f15-95dd-758e6089b9d0",
       "queued_time": "2024-11-07T18:55:31.4289176Z",
       "session_id": "14acf573-f6db-4136-9d61-a88d1115bc48",
       "session_start_time": null,
       "spark_pool": null,
       "state": "finished",
       "statement_id": 52,
       "statement_ids": [
        52
       ]
      },
      "text/plain": [
       "StatementMeta(, 14acf573-f6db-4136-9d61-a88d1115bc48, 52, Finished, Available, Finished)"
      ]
     },
     "metadata": {},
     "output_type": "display_data"
    }
   ],
   "source": [
    "# 8 - Show updated report\n",
    "rep.launch_report(report=w_report.value, workspace=w_workspace.value)"
   ]
  }
 ],
 "metadata": {
  "dependencies": {
   "lakehouse": {
    "default_lakehouse": "5b3a4cd2-5198-44a3-8708-40e500f760fc",
    "default_lakehouse_name": "PBI_Files",
    "default_lakehouse_workspace_id": "7ee38267-f96d-465f-8136-059500134f0d"
   }
  },
  "kernel_info": {
   "name": "synapse_pyspark"
  },
  "kernelspec": {
   "display_name": "Synapse PySpark",
   "language": "Python",
   "name": "synapse_pyspark"
  },
  "language_info": {
   "name": "python"
  },
  "microsoft": {
   "language": "python",
   "language_group": "synapse_pyspark",
   "ms_spell_check": {
    "ms_spell_check_language": "en"
   }
  },
  "nteract": {
   "version": "nteract-front-end@1.0.0"
  },
  "spark_compute": {
   "compute_id": "/trident/default",
   "session_options": {
    "conf": {
     "spark.synapse.nbs.session.timeout": "1200000"
    }
   }
  },
  "synapse_widget": {
   "state": {},
   "version": "0.1"
  },
  "widgets": {
   "application/vnd.jupyter.widget-state+json": {
    "state": {
     "01c9006663a447d497706a22f3b6098b": {
      "model_module": "powerbi-jupyter-client",
      "model_module_version": "3.1.1",
      "model_name": "ReportModel",
      "state": {
       "_client_error": "",
       "_embed_config": {
        "accessToken": "eyJ0eXAiOiJKV1QiLCJhbGciOiJSUzI1NiIsIng1dCI6IjNQYUs0RWZ5Qk5RdTNDdGpZc2EzWW1oUTVFMCIsImtpZCI6IjNQYUs0RWZ5Qk5RdTNDdGpZc2EzWW1oUTVFMCJ9.eyJhdWQiOiJodHRwczovL2FuYWx5c2lzLndpbmRvd3MubmV0L3Bvd2VyYmkvYXBpIiwiaXNzIjoiaHR0cHM6Ly9zdHMud2luZG93cy5uZXQvODc3YzM0YjktZGM0My00YzBhLTg3YzMtODBkNzA3YWJjNjcxLyIsImlhdCI6MTczMDk5Nzc5MywibmJmIjoxNzMwOTk3NzkzLCJleHAiOjE3MzEwMDI5NDAsImFjY3QiOjAsImFjciI6IjEiLCJhaW8iOiJBVlFBcS84WUFBQUFpbGlqOU1lckpYckN2RlRZTTc0czhyUU1lL1drZlFxY1BQdjNMK2FsWWgwd1dpaEdaRmlCQ0YvdFUyTS84MDRsalFxT0grUXk3dkl0UFVtYXhCb3l1aWUwUDk1dVZnbDRRRmVZMG1HNXNnRT0iLCJhbXIiOlsicHdkIiwibWZhIl0sImFwcGlkIjoiOTQzZGE5NzEtMzc4Ni00MTJlLWExODQtZWMzZGVkYTc5YTZmIiwiYXBwaWRhY3IiOiIyIiwiZmFtaWx5X25hbWUiOiJMIiwiZ2l2ZW5fbmFtZSI6Ik0iLCJpZHR5cCI6InVzZXIiLCJpcGFkZHIiOiI3Ni4xMzEuNTYuMTk5IiwibmFtZSI6Ik1MIEFkbWluIiwib2lkIjoiOTRjMDM2NGMtNjBmNi00MjgzLTllNTItOWEzNTY2ZWY4YzA3IiwicHVpZCI6IjEwMDMyMDAwNDY4QzgyRjYiLCJyaCI6IjEuQVJjQXVUUjhoMFBjQ2t5SHc0RFhCNnZHY1FrQUFBQUFBQUFBd0FBQUFBQUFBQUJvQVVZWEFBLiIsInNjcCI6InVzZXJfaW1wZXJzb25hdGlvbiIsInN1YiI6ImRBVUxzTU5QX3F4YW5Ja2tpMUU2R2lOektBZGdFa2FGWVczb1daeTlRS0UiLCJ0aWQiOiI4NzdjMzRiOS1kYzQzLTRjMGEtODdjMy04MGQ3MDdhYmM2NzEiLCJ1bmlxdWVfbmFtZSI6Ik1MYWRtaW5AZGF0YXNhdnZ5Lm1lIiwidXBuIjoiTUxhZG1pbkBkYXRhc2F2dnkubWUiLCJ1dGkiOiJQRjE5NWRQZDdFLXJ0Wm1wTUVDVEFBIiwidmVyIjoiMS4wIiwid2lkcyI6WyI2MmU5MDM5NC02OWY1LTQyMzctOTE5MC0wMTIxNzcxNDVlMTAiLCJhOWVhODk5Ni0xMjJmLTRjNzQtOTUyMC04ZWRjZDE5MjgyNmMiLCJkMzdjOGJlZC0wNzExLTQ0MTctYmEzOC1iNGFiZTY2Y2U0YzIiLCJiNzlmYmY0ZC0zZWY5LTQ2ODktODE0My03NmIxOTRlODU1MDkiXSwieG1zX2lkcmVsIjoiMSAyMCJ9.RMe0CE_dxFUOzeQHpsTiTBNsuAZReV1KJYHpdm1QdBgC664ekXbVUDhvz1eYLAxdexxB1so1f_eeGsVgHuemLJVZyJGPZvPpWKaiznpNCee1XNGioE7X4ZgjFT0cSLWVibjLs9nnzZV4oBhm4G4rjaVCplMi8MylvdX-u-Wu7AEgJmt_vmKh1U8ivZnH23VDbWUP_Q94zu2COGBPp2uMloYQBxHHp0fVpoZY38BD2SY1U1YQ3TgVQlc7_uokhsmA6UF5A4vzh3js6mByYBY9tHx0x2ghVPhLCWj0arch4IDc4EHDtUHAmAV6yN6jKImTjqpZ1ie7lZY7ZDA00ruG8w",
        "datasetId": null,
        "embedUrl": "https://app.powerbi.com/reportEmbed?reportId=529251d3-fa51-4a36-b5c4-962beb483da0&groupId=7ee38267-f96d-465f-8136-059500134f0d&w=2&config=eyJjbHVzdGVyVXJsIjoiaHR0cHM6Ly9XQUJJLVVTLU5PUlRILUNFTlRSQUwtRy1QUklNQVJZLXJlZGlyZWN0LmFuYWx5c2lzLndpbmRvd3MubmV0IiwiZW1iZWRGZWF0dXJlcyI6eyJ1c2FnZU1ldHJpY3NWTmV4dCI6dHJ1ZX19",
        "permissions": null,
        "tokenType": 0,
        "type": "report",
        "viewMode": 0
       },
       "_embedded": true,
       "_event_data": {
        "event_details": null,
        "event_name": "rendered"
       },
       "_export_visual_data_request": {
        "exportDataType": null,
        "pageName": null,
        "rows": null,
        "visualName": null
       },
       "_get_visuals_page_name": "",
       "_init_error": "",
       "_report_active_page": "",
       "_report_bookmark_name": "",
       "_token_expired": true,
       "_visual_data": "",
       "layout": "IPY_MODEL_26dac6fe0fdc49e892e27ac33f3d9583"
      }
     },
     "04b16e2f17d848baaec48273e629d794": {
      "model_module": "powerbi-jupyter-client",
      "model_module_version": "3.1.1",
      "model_name": "ReportModel",
      "state": {
       "_client_error": "",
       "_embed_config": {
        "accessToken": "eyJ0eXAiOiJKV1QiLCJhbGciOiJSUzI1NiIsIng1dCI6IjNQYUs0RWZ5Qk5RdTNDdGpZc2EzWW1oUTVFMCIsImtpZCI6IjNQYUs0RWZ5Qk5RdTNDdGpZc2EzWW1oUTVFMCJ9.eyJhdWQiOiJodHRwczovL2FuYWx5c2lzLndpbmRvd3MubmV0L3Bvd2VyYmkvYXBpIiwiaXNzIjoiaHR0cHM6Ly9zdHMud2luZG93cy5uZXQvODc3YzM0YjktZGM0My00YzBhLTg3YzMtODBkNzA3YWJjNjcxLyIsImlhdCI6MTczMDkzMTMwMSwibmJmIjoxNzMwOTMxMzAxLCJleHAiOjE3MzA5MzU3NDAsImFjY3QiOjAsImFjciI6IjEiLCJhaW8iOiJBVlFBcS84WUFBQUEydEQwQkNWUklnMEU3dVZDVkZMTFNtdC9jdWQ5SStuZ0NPSWlSb29BVUNCcHg3UXZYK2dQSDk4VXVGK0h5OGRQRHdCaEhyUHgwdTgvTVA5eEdhL1h5UzVHcHVjTkVTYkJGd0JNMnFhSzdqWT0iLCJhbXIiOlsicHdkIiwibWZhIl0sImFwcGlkIjoiOTQzZGE5NzEtMzc4Ni00MTJlLWExODQtZWMzZGVkYTc5YTZmIiwiYXBwaWRhY3IiOiIyIiwiZmFtaWx5X25hbWUiOiJMIiwiZ2l2ZW5fbmFtZSI6Ik0iLCJpZHR5cCI6InVzZXIiLCJpcGFkZHIiOiI3Ni4xMzEuNTYuMTk5IiwibmFtZSI6Ik1MIEFkbWluIiwib2lkIjoiOTRjMDM2NGMtNjBmNi00MjgzLTllNTItOWEzNTY2ZWY4YzA3IiwicHVpZCI6IjEwMDMyMDAwNDY4QzgyRjYiLCJyaCI6IjEuQVJjQXVUUjhoMFBjQ2t5SHc0RFhCNnZHY1FrQUFBQUFBQUFBd0FBQUFBQUFBQUJvQVVZWEFBLiIsInNjcCI6InVzZXJfaW1wZXJzb25hdGlvbiIsInN1YiI6ImRBVUxzTU5QX3F4YW5Ja2tpMUU2R2lOektBZGdFa2FGWVczb1daeTlRS0UiLCJ0aWQiOiI4NzdjMzRiOS1kYzQzLTRjMGEtODdjMy04MGQ3MDdhYmM2NzEiLCJ1bmlxdWVfbmFtZSI6Ik1MYWRtaW5AZGF0YXNhdnZ5Lm1lIiwidXBuIjoiTUxhZG1pbkBkYXRhc2F2dnkubWUiLCJ1dGkiOiJMOVcwN0l6cXowbXYxVHdlZVBCMUFBIiwidmVyIjoiMS4wIiwid2lkcyI6WyI2MmU5MDM5NC02OWY1LTQyMzctOTE5MC0wMTIxNzcxNDVlMTAiLCJhOWVhODk5Ni0xMjJmLTRjNzQtOTUyMC04ZWRjZDE5MjgyNmMiLCJkMzdjOGJlZC0wNzExLTQ0MTctYmEzOC1iNGFiZTY2Y2U0YzIiLCJiNzlmYmY0ZC0zZWY5LTQ2ODktODE0My03NmIxOTRlODU1MDkiXSwieG1zX2lkcmVsIjoiMSAxNiJ9.UcpISqmzlugy_g-c7hva2GYvigF9Fqj47jwrcULx2pFjm2Z5wyUdPGyuHqTRs8mzg76oQ7nLzq0IW9kT6BbZGRC06j2nVwErb4NNJM941i7gzMzgsmBteYB8xgxioJFhswZ3n03NoS7zKLuvZIa1HpFfDEniVM5SnaW6v19vw8zW_1UseBLwMjakKc-VR97onP00bSeYVhGIcTUAWiqYEwve9VKLuChXw96_MfsjPb10edwnOw4g7A8gQVZe9Fd-41sIz9eXgKLigODo7mrZ1t8dm6OasknXbf4nWie2EcvmlbI7hJSVZhwy7UdLvo5Ce1C4ABp4nI7u7tC-ITOmTQ",
        "datasetId": null,
        "embedUrl": "https://app.powerbi.com/reportEmbed?reportId=529251d3-fa51-4a36-b5c4-962beb483da0&groupId=7ee38267-f96d-465f-8136-059500134f0d&w=2&config=eyJjbHVzdGVyVXJsIjoiaHR0cHM6Ly9XQUJJLVVTLU5PUlRILUNFTlRSQUwtRy1QUklNQVJZLXJlZGlyZWN0LmFuYWx5c2lzLndpbmRvd3MubmV0IiwiZW1iZWRGZWF0dXJlcyI6eyJ1c2FnZU1ldHJpY3NWTmV4dCI6dHJ1ZX19",
        "permissions": null,
        "tokenType": 0,
        "type": "report",
        "viewMode": 0
       },
       "_event_data": {
        "event_details": null,
        "event_name": "rendered"
       },
       "_export_visual_data_request": {
        "exportDataType": null,
        "pageName": null,
        "rows": null,
        "visualName": null
       },
       "_get_visuals_page_name": "",
       "_init_error": "",
       "_report_active_page": "",
       "_report_bookmark_name": "",
       "_token_expired": true,
       "_visual_data": "",
       "layout": "IPY_MODEL_50a95bf15fed4a278d3fb61cf978f988"
      }
     },
     "06445779a07f48bf907c15308384a4f6": {
      "model_module": "@jupyter-widgets/base",
      "model_module_version": "2.0.0",
      "model_name": "LayoutModel",
      "state": {}
     },
     "12b8a1a6d05a4977b725174d87bcb075": {
      "model_module": "@jupyter-widgets/controls",
      "model_module_version": "2.0.0",
      "model_name": "TextModel",
      "state": {
       "description": "Workspace:",
       "layout": "IPY_MODEL_8d157467933e4a19ba05256082a09e0b",
       "style": "IPY_MODEL_2c3be00eec28442c9e2643f54cb325d7",
       "value": "Semantic Link"
      }
     },
     "14db0e0a8a8c4801b62c300d6e246593": {
      "model_module": "@jupyter-widgets/controls",
      "model_module_version": "2.0.0",
      "model_name": "TextModel",
      "state": {
       "description": "Original field:",
       "layout": "IPY_MODEL_481d12b4aa3a4df68d4e26b7d1360ed6",
       "style": "IPY_MODEL_68627c12b6454d558716ff43f0f08b2b",
       "value": "Profit"
      }
     },
     "1655e90d7625490c88feb6d26ed6ad7e": {
      "model_module": "@jupyter-widgets/base",
      "model_module_version": "2.0.0",
      "model_name": "LayoutModel",
      "state": {}
     },
     "1839245771854893a62fa296a4f39593": {
      "model_module": "@jupyter-widgets/controls",
      "model_module_version": "2.0.0",
      "model_name": "TextStyleModel",
      "state": {
       "description_width": "",
       "font_size": null,
       "text_color": null
      }
     },
     "202eb167bf114a17bc4f67ad33e76cb9": {
      "model_module": "@jupyter-widgets/controls",
      "model_module_version": "2.0.0",
      "model_name": "TextStyleModel",
      "state": {
       "description_width": "",
       "font_size": null,
       "text_color": null
      }
     },
     "236153c9530946909840634ae067bbdb": {
      "model_module": "@jupyter-widgets/base",
      "model_module_version": "2.0.0",
      "model_name": "LayoutModel",
      "state": {}
     },
     "26dac6fe0fdc49e892e27ac33f3d9583": {
      "model_module": "@jupyter-widgets/base",
      "model_module_version": "2.0.0",
      "model_name": "LayoutModel",
      "state": {}
     },
     "27c54f88b8954b47a399d415f168441d": {
      "model_module": "@jupyter-widgets/controls",
      "model_module_version": "2.0.0",
      "model_name": "TextStyleModel",
      "state": {
       "description_width": "",
       "font_size": null,
       "text_color": null
      }
     },
     "2923264681874ff98d636f191fe6287e": {
      "model_module": "@jupyter-widgets/base",
      "model_module_version": "2.0.0",
      "model_name": "LayoutModel",
      "state": {}
     },
     "2c3be00eec28442c9e2643f54cb325d7": {
      "model_module": "@jupyter-widgets/controls",
      "model_module_version": "2.0.0",
      "model_name": "TextStyleModel",
      "state": {
       "description_width": "",
       "font_size": null,
       "text_color": null
      }
     },
     "2c565112b743400e8bf0f92cc47a3a16": {
      "model_module": "powerbi-jupyter-client",
      "model_module_version": "3.1.1",
      "model_name": "ReportModel",
      "state": {
       "_client_error": "",
       "_embed_config": {
        "accessToken": "eyJ0eXAiOiJKV1QiLCJhbGciOiJSUzI1NiIsIng1dCI6IjNQYUs0RWZ5Qk5RdTNDdGpZc2EzWW1oUTVFMCIsImtpZCI6IjNQYUs0RWZ5Qk5RdTNDdGpZc2EzWW1oUTVFMCJ9.eyJhdWQiOiJodHRwczovL2FuYWx5c2lzLndpbmRvd3MubmV0L3Bvd2VyYmkvYXBpIiwiaXNzIjoiaHR0cHM6Ly9zdHMud2luZG93cy5uZXQvODc3YzM0YjktZGM0My00YzBhLTg3YzMtODBkNzA3YWJjNjcxLyIsImlhdCI6MTczMTAwNDM3NiwibmJmIjoxNzMxMDA0Mzc2LCJleHAiOjE3MzEwMDg3NTYsImFjY3QiOjAsImFjciI6IjEiLCJhaW8iOiJBVlFBcS84WUFBQUFyaGFEdGpwYm5obW5YTkxLS2k2aU8wYVJxcmZkbEhMczBhTnJRNjJFNlU2YkhxdHpLcXBncnVmaVp4dGVOSXdLWHIzL3BsdmdMeWphYU9ZVkRXRlVsR1BPcTN6ZjFocm82WC9EZHh3UXJ3VT0iLCJhbXIiOlsicHdkIiwibWZhIl0sImFwcGlkIjoiOTQzZGE5NzEtMzc4Ni00MTJlLWExODQtZWMzZGVkYTc5YTZmIiwiYXBwaWRhY3IiOiIyIiwiZmFtaWx5X25hbWUiOiJMIiwiZ2l2ZW5fbmFtZSI6Ik0iLCJpZHR5cCI6InVzZXIiLCJpcGFkZHIiOiI3Ni4xMzEuNTYuMTk5IiwibmFtZSI6Ik1MIEFkbWluIiwib2lkIjoiOTRjMDM2NGMtNjBmNi00MjgzLTllNTItOWEzNTY2ZWY4YzA3IiwicHVpZCI6IjEwMDMyMDAwNDY4QzgyRjYiLCJyaCI6IjEuQVJjQXVUUjhoMFBjQ2t5SHc0RFhCNnZHY1FrQUFBQUFBQUFBd0FBQUFBQUFBQUJvQVVZWEFBLiIsInNjcCI6InVzZXJfaW1wZXJzb25hdGlvbiIsInN1YiI6ImRBVUxzTU5QX3F4YW5Ja2tpMUU2R2lOektBZGdFa2FGWVczb1daeTlRS0UiLCJ0aWQiOiI4NzdjMzRiOS1kYzQzLTRjMGEtODdjMy04MGQ3MDdhYmM2NzEiLCJ1bmlxdWVfbmFtZSI6Ik1MYWRtaW5AZGF0YXNhdnZ5Lm1lIiwidXBuIjoiTUxhZG1pbkBkYXRhc2F2dnkubWUiLCJ1dGkiOiJSYkV1bmtnNUZrS3NHcUg0Z3Z5SkFBIiwidmVyIjoiMS4wIiwid2lkcyI6WyI2MmU5MDM5NC02OWY1LTQyMzctOTE5MC0wMTIxNzcxNDVlMTAiLCJhOWVhODk5Ni0xMjJmLTRjNzQtOTUyMC04ZWRjZDE5MjgyNmMiLCJkMzdjOGJlZC0wNzExLTQ0MTctYmEzOC1iNGFiZTY2Y2U0YzIiLCJiNzlmYmY0ZC0zZWY5LTQ2ODktODE0My03NmIxOTRlODU1MDkiXSwieG1zX2lkcmVsIjoiMTggMSJ9.G4s2CZDbD7vLV_7lf2K-WXlL07QQp8BIIWmYucA0HRNswkxQkUvg5F4488QlUK17r50WjRgh95kLI_LCGyuLOiY6-nUJe9o0eUo4ASoXeDmbIRTz0JG0FdEd9qXPJpZ0MjfbRFQSmKdh5CxR55axePvjTUpE2LhAsxcAnFUuexyHvD3CJclaLPmM0X8FkbvHuLdkC8y3pbBNYysEJ72EnJoOHZKlZ-sGVSZieelP7s152pRaI5Ui_1yK2DWgYedAG-a3wqvZchJyvIPJ--p6-gASeP-UcSHSZ7QJPHXCEprxIKtiTMp3bUIlFnJStM8II11l-ArPWOj2mr8JiczDNw",
        "datasetId": null,
        "embedUrl": "https://app.powerbi.com/reportEmbed?reportId=529251d3-fa51-4a36-b5c4-962beb483da0&groupId=7ee38267-f96d-465f-8136-059500134f0d&w=2&config=eyJjbHVzdGVyVXJsIjoiaHR0cHM6Ly9XQUJJLVVTLU5PUlRILUNFTlRSQUwtRy1QUklNQVJZLXJlZGlyZWN0LmFuYWx5c2lzLndpbmRvd3MubmV0IiwiZW1iZWRGZWF0dXJlcyI6eyJ1c2FnZU1ldHJpY3NWTmV4dCI6dHJ1ZX19",
        "permissions": null,
        "tokenType": 0,
        "type": "report",
        "viewMode": 0
       },
       "_embedded": true,
       "_event_data": {
        "event_details": null,
        "event_name": "rendered"
       },
       "_export_visual_data_request": {
        "exportDataType": null,
        "pageName": null,
        "rows": null,
        "visualName": null
       },
       "_get_visuals_page_name": "",
       "_init_error": "",
       "_report_active_page": "",
       "_report_bookmark_name": "",
       "_visual_data": "",
       "layout": "IPY_MODEL_79908bce9fb347a1bc2740aab09f4b2d"
      }
     },
     "2e2fd57154e44f43b1138999291f3989": {
      "model_module": "@jupyter-widgets/controls",
      "model_module_version": "2.0.0",
      "model_name": "TextModel",
      "state": {
       "description": "Report:",
       "layout": "IPY_MODEL_74358b1f889c4fcd98843d3f8041cf58",
       "style": "IPY_MODEL_57527475a9ed4c3bb9d98c6895f9013e",
       "value": "Field Replace"
      }
     },
     "2f7ffd5227ee43c1bd15f71274e1a2ae": {
      "model_module": "@jupyter-widgets/controls",
      "model_module_version": "2.0.0",
      "model_name": "TextModel",
      "state": {
       "description": "Original field:",
       "layout": "IPY_MODEL_daeea8195f6841fdbee29dac22062bab",
       "style": "IPY_MODEL_27c54f88b8954b47a399d415f168441d",
       "value": "Profit"
      }
     },
     "317f53fb4f9d4ac5bce57f36e77a6210": {
      "model_module": "@jupyter-widgets/controls",
      "model_module_version": "2.0.0",
      "model_name": "TextStyleModel",
      "state": {
       "description_width": "",
       "font_size": null,
       "text_color": null
      }
     },
     "3919144ad5f147ed9f534ec3af262848": {
      "model_module": "@jupyter-widgets/controls",
      "model_module_version": "2.0.0",
      "model_name": "TextStyleModel",
      "state": {
       "description_width": "",
       "font_size": null,
       "text_color": null
      }
     },
     "3968f4eef6d54e9fb552e6e9789ba38b": {
      "model_module": "powerbi-jupyter-client",
      "model_module_version": "3.1.1",
      "model_name": "ReportModel",
      "state": {
       "_client_error": "",
       "_embed_config": {
        "accessToken": "eyJ0eXAiOiJKV1QiLCJhbGciOiJSUzI1NiIsIng1dCI6IjNQYUs0RWZ5Qk5RdTNDdGpZc2EzWW1oUTVFMCIsImtpZCI6IjNQYUs0RWZ5Qk5RdTNDdGpZc2EzWW1oUTVFMCJ9.eyJhdWQiOiJodHRwczovL2FuYWx5c2lzLndpbmRvd3MubmV0L3Bvd2VyYmkvYXBpIiwiaXNzIjoiaHR0cHM6Ly9zdHMud2luZG93cy5uZXQvODc3YzM0YjktZGM0My00YzBhLTg3YzMtODBkNzA3YWJjNjcxLyIsImlhdCI6MTczMDk0OTA4MSwibmJmIjoxNzMwOTQ5MDgxLCJleHAiOjE3MzA5NTQ3NTUsImFjY3QiOjAsImFjciI6IjEiLCJhaW8iOiJBVlFBcS84WUFBQUFybEx3dlNXNTFmMFJTakRTS0hscjRoUytQSUs1SFFRdlErTm54dXhMamRRZHgyQXIvTTRmRitXNjJYQkRYYitRZmIxUkJkZWRnOS93UHBqbXhoMTAzcFBFQm9RVHlFUlJrazg3TnNldDZCND0iLCJhbXIiOlsicHdkIiwibWZhIl0sImFwcGlkIjoiOTQzZGE5NzEtMzc4Ni00MTJlLWExODQtZWMzZGVkYTc5YTZmIiwiYXBwaWRhY3IiOiIyIiwiZmFtaWx5X25hbWUiOiJMIiwiZ2l2ZW5fbmFtZSI6Ik0iLCJpZHR5cCI6InVzZXIiLCJpcGFkZHIiOiI3Ni4xMzEuNTYuMTk5IiwibmFtZSI6Ik1MIEFkbWluIiwib2lkIjoiOTRjMDM2NGMtNjBmNi00MjgzLTllNTItOWEzNTY2ZWY4YzA3IiwicHVpZCI6IjEwMDMyMDAwNDY4QzgyRjYiLCJyaCI6IjEuQVJjQXVUUjhoMFBjQ2t5SHc0RFhCNnZHY1FrQUFBQUFBQUFBd0FBQUFBQUFBQUJvQVVZWEFBLiIsInNjcCI6InVzZXJfaW1wZXJzb25hdGlvbiIsInN1YiI6ImRBVUxzTU5QX3F4YW5Ja2tpMUU2R2lOektBZGdFa2FGWVczb1daeTlRS0UiLCJ0aWQiOiI4NzdjMzRiOS1kYzQzLTRjMGEtODdjMy04MGQ3MDdhYmM2NzEiLCJ1bmlxdWVfbmFtZSI6Ik1MYWRtaW5AZGF0YXNhdnZ5Lm1lIiwidXBuIjoiTUxhZG1pbkBkYXRhc2F2dnkubWUiLCJ1dGkiOiJmNld4QTNiaFhFT3l6R3BjVVpsNkFBIiwidmVyIjoiMS4wIiwid2lkcyI6WyI2MmU5MDM5NC02OWY1LTQyMzctOTE5MC0wMTIxNzcxNDVlMTAiLCJhOWVhODk5Ni0xMjJmLTRjNzQtOTUyMC04ZWRjZDE5MjgyNmMiLCJkMzdjOGJlZC0wNzExLTQ0MTctYmEzOC1iNGFiZTY2Y2U0YzIiLCJiNzlmYmY0ZC0zZWY5LTQ2ODktODE0My03NmIxOTRlODU1MDkiXSwieG1zX2lkcmVsIjoiMjQgMSJ9.f7-ZKVJ7CZytjnXc87bSI6VlnNsD2Si9CY4Vl1hE_lHQ4I4FDanQg7GyFiVcmNgmE3WcxVuogoVskN036cTP85lKphzJh-FBWsfSeHeP81O00GlolQfMTuuGTHOEW8GhN190Vb1glZrnOJ2o1R9xn7CuE2pRC3Rc3vKXnrliv41aO7sZcj0-T5L6qqGtDmyyKSByM53z5hTCuwgDdLkgVWCsyjQEaLytVCOh0_GcDejuE7wHYH_MlHi4kVNT9mJcDsMijP5Hpsg-cGGfdeYf1X0Z1vMbkw0lsa33lXGDsQ2r7ZHmc2MlafFrJW_F4S4udx2oiuUn6b5KhZpz3EXBCg",
        "datasetId": null,
        "embedUrl": "https://app.powerbi.com/reportEmbed?reportId=529251d3-fa51-4a36-b5c4-962beb483da0&groupId=7ee38267-f96d-465f-8136-059500134f0d&w=2&config=eyJjbHVzdGVyVXJsIjoiaHR0cHM6Ly9XQUJJLVVTLU5PUlRILUNFTlRSQUwtRy1QUklNQVJZLXJlZGlyZWN0LmFuYWx5c2lzLndpbmRvd3MubmV0IiwiZW1iZWRGZWF0dXJlcyI6eyJ1c2FnZU1ldHJpY3NWTmV4dCI6dHJ1ZX19",
        "permissions": null,
        "tokenType": 0,
        "type": "report",
        "viewMode": 0
       },
       "_embedded": true,
       "_event_data": {
        "event_details": null,
        "event_name": "rendered"
       },
       "_export_visual_data_request": {
        "exportDataType": null,
        "pageName": null,
        "rows": null,
        "visualName": null
       },
       "_get_visuals_page_name": "",
       "_init_error": "",
       "_report_active_page": "",
       "_report_bookmark_name": "",
       "_token_expired": true,
       "_visual_data": "",
       "layout": "IPY_MODEL_9e8d5d6b26c24a018b1563e9465a1a5e"
      }
     },
     "3fcbcce396c94c44b34250fd4b536d8f": {
      "model_module": "@jupyter-widgets/base",
      "model_module_version": "2.0.0",
      "model_name": "LayoutModel",
      "state": {}
     },
     "481d12b4aa3a4df68d4e26b7d1360ed6": {
      "model_module": "@jupyter-widgets/base",
      "model_module_version": "2.0.0",
      "model_name": "LayoutModel",
      "state": {}
     },
     "50a95bf15fed4a278d3fb61cf978f988": {
      "model_module": "@jupyter-widgets/base",
      "model_module_version": "2.0.0",
      "model_name": "LayoutModel",
      "state": {}
     },
     "51f70d2994744e48990131f5d5eebf96": {
      "model_module": "@jupyter-widgets/controls",
      "model_module_version": "2.0.0",
      "model_name": "TextStyleModel",
      "state": {
       "description_width": "",
       "font_size": null,
       "text_color": null
      }
     },
     "57527475a9ed4c3bb9d98c6895f9013e": {
      "model_module": "@jupyter-widgets/controls",
      "model_module_version": "2.0.0",
      "model_name": "TextStyleModel",
      "state": {
       "description_width": "",
       "font_size": null,
       "text_color": null
      }
     },
     "58ba8d73e0394800a4455d18d3993be6": {
      "model_module": "@jupyter-widgets/controls",
      "model_module_version": "2.0.0",
      "model_name": "TextModel",
      "state": {
       "description": "Workspace:",
       "layout": "IPY_MODEL_2923264681874ff98d636f191fe6287e",
       "style": "IPY_MODEL_94e556e945ee4cf88fb7371023a0f784",
       "value": "Semantic Link"
      }
     },
     "593cb047e6104fc2b78f12c199e4b5b2": {
      "model_module": "@jupyter-widgets/controls",
      "model_module_version": "2.0.0",
      "model_name": "TextModel",
      "state": {
       "description": "New field:",
       "layout": "IPY_MODEL_c8d7a630e1334afa9765da77748509f3",
       "style": "IPY_MODEL_a634f383e2a84d6dbe00b32730dbfad0",
       "value": "Profit - New"
      }
     },
     "61808af7ebc44999b711025a3f3b02e6": {
      "model_module": "@jupyter-widgets/controls",
      "model_module_version": "2.0.0",
      "model_name": "TextModel",
      "state": {
       "description": "New field:",
       "layout": "IPY_MODEL_3fcbcce396c94c44b34250fd4b536d8f",
       "style": "IPY_MODEL_317f53fb4f9d4ac5bce57f36e77a6210",
       "value": "Profit2"
      }
     },
     "68627c12b6454d558716ff43f0f08b2b": {
      "model_module": "@jupyter-widgets/controls",
      "model_module_version": "2.0.0",
      "model_name": "TextStyleModel",
      "state": {
       "description_width": "",
       "font_size": null,
       "text_color": null
      }
     },
     "6ba5c25f02fc48ed897f76d4d9af3c57": {
      "model_module": "@jupyter-widgets/controls",
      "model_module_version": "2.0.0",
      "model_name": "TextModel",
      "state": {
       "description": "New field:",
       "layout": "IPY_MODEL_749fb18f5ea24ae7a802840079e1cca5",
       "style": "IPY_MODEL_202eb167bf114a17bc4f67ad33e76cb9",
       "value": "Profit2"
      }
     },
     "74358b1f889c4fcd98843d3f8041cf58": {
      "model_module": "@jupyter-widgets/base",
      "model_module_version": "2.0.0",
      "model_name": "LayoutModel",
      "state": {}
     },
     "749fb18f5ea24ae7a802840079e1cca5": {
      "model_module": "@jupyter-widgets/base",
      "model_module_version": "2.0.0",
      "model_name": "LayoutModel",
      "state": {}
     },
     "79908bce9fb347a1bc2740aab09f4b2d": {
      "model_module": "@jupyter-widgets/base",
      "model_module_version": "2.0.0",
      "model_name": "LayoutModel",
      "state": {}
     },
     "7b486ebd4f194e0f916449826ecc47f5": {
      "model_module": "@jupyter-widgets/base",
      "model_module_version": "2.0.0",
      "model_name": "LayoutModel",
      "state": {}
     },
     "7be890abdf564293998f21e3085c00d4": {
      "model_module": "@jupyter-widgets/controls",
      "model_module_version": "2.0.0",
      "model_name": "TextStyleModel",
      "state": {
       "description_width": "",
       "font_size": null,
       "text_color": null
      }
     },
     "7c7068136fc54f5986e43b9c92913930": {
      "model_module": "@jupyter-widgets/controls",
      "model_module_version": "2.0.0",
      "model_name": "TextModel",
      "state": {
       "description": "Report:",
       "layout": "IPY_MODEL_bc358550296f4948bb88deed5b248cca",
       "style": "IPY_MODEL_3919144ad5f147ed9f534ec3af262848",
       "value": "Field Replace"
      }
     },
     "7ffae3f287e3486fae871a7f3e98dc58": {
      "model_module": "@jupyter-widgets/base",
      "model_module_version": "2.0.0",
      "model_name": "LayoutModel",
      "state": {}
     },
     "825e2107ed654dfaafa126383b05d64b": {
      "model_module": "@jupyter-widgets/controls",
      "model_module_version": "2.0.0",
      "model_name": "TextModel",
      "state": {
       "description": "Workspace:",
       "layout": "IPY_MODEL_835608294c2c4374b1e4db4cbf66a206",
       "style": "IPY_MODEL_51f70d2994744e48990131f5d5eebf96",
       "value": "Semantic Link"
      }
     },
     "835608294c2c4374b1e4db4cbf66a206": {
      "model_module": "@jupyter-widgets/base",
      "model_module_version": "2.0.0",
      "model_name": "LayoutModel",
      "state": {}
     },
     "8d157467933e4a19ba05256082a09e0b": {
      "model_module": "@jupyter-widgets/base",
      "model_module_version": "2.0.0",
      "model_name": "LayoutModel",
      "state": {}
     },
     "8fc7644ed914480883b97e56bc06cba4": {
      "model_module": "@jupyter-widgets/base",
      "model_module_version": "2.0.0",
      "model_name": "LayoutModel",
      "state": {}
     },
     "90be76cfd6af4d57aa85d5108cc9d6d1": {
      "model_module": "powerbi-jupyter-client",
      "model_module_version": "3.1.1",
      "model_name": "ReportModel",
      "state": {
       "_client_error": "",
       "_embed_config": {
        "accessToken": "eyJ0eXAiOiJKV1QiLCJhbGciOiJSUzI1NiIsIng1dCI6IjNQYUs0RWZ5Qk5RdTNDdGpZc2EzWW1oUTVFMCIsImtpZCI6IjNQYUs0RWZ5Qk5RdTNDdGpZc2EzWW1oUTVFMCJ9.eyJhdWQiOiJodHRwczovL2FuYWx5c2lzLndpbmRvd3MubmV0L3Bvd2VyYmkvYXBpIiwiaXNzIjoiaHR0cHM6Ly9zdHMud2luZG93cy5uZXQvODc3YzM0YjktZGM0My00YzBhLTg3YzMtODBkNzA3YWJjNjcxLyIsImlhdCI6MTczMDk5Nzc5MywibmJmIjoxNzMwOTk3NzkzLCJleHAiOjE3MzEwMDI5NDAsImFjY3QiOjAsImFjciI6IjEiLCJhaW8iOiJBVlFBcS84WUFBQUFpbGlqOU1lckpYckN2RlRZTTc0czhyUU1lL1drZlFxY1BQdjNMK2FsWWgwd1dpaEdaRmlCQ0YvdFUyTS84MDRsalFxT0grUXk3dkl0UFVtYXhCb3l1aWUwUDk1dVZnbDRRRmVZMG1HNXNnRT0iLCJhbXIiOlsicHdkIiwibWZhIl0sImFwcGlkIjoiOTQzZGE5NzEtMzc4Ni00MTJlLWExODQtZWMzZGVkYTc5YTZmIiwiYXBwaWRhY3IiOiIyIiwiZmFtaWx5X25hbWUiOiJMIiwiZ2l2ZW5fbmFtZSI6Ik0iLCJpZHR5cCI6InVzZXIiLCJpcGFkZHIiOiI3Ni4xMzEuNTYuMTk5IiwibmFtZSI6Ik1MIEFkbWluIiwib2lkIjoiOTRjMDM2NGMtNjBmNi00MjgzLTllNTItOWEzNTY2ZWY4YzA3IiwicHVpZCI6IjEwMDMyMDAwNDY4QzgyRjYiLCJyaCI6IjEuQVJjQXVUUjhoMFBjQ2t5SHc0RFhCNnZHY1FrQUFBQUFBQUFBd0FBQUFBQUFBQUJvQVVZWEFBLiIsInNjcCI6InVzZXJfaW1wZXJzb25hdGlvbiIsInN1YiI6ImRBVUxzTU5QX3F4YW5Ja2tpMUU2R2lOektBZGdFa2FGWVczb1daeTlRS0UiLCJ0aWQiOiI4NzdjMzRiOS1kYzQzLTRjMGEtODdjMy04MGQ3MDdhYmM2NzEiLCJ1bmlxdWVfbmFtZSI6Ik1MYWRtaW5AZGF0YXNhdnZ5Lm1lIiwidXBuIjoiTUxhZG1pbkBkYXRhc2F2dnkubWUiLCJ1dGkiOiJQRjE5NWRQZDdFLXJ0Wm1wTUVDVEFBIiwidmVyIjoiMS4wIiwid2lkcyI6WyI2MmU5MDM5NC02OWY1LTQyMzctOTE5MC0wMTIxNzcxNDVlMTAiLCJhOWVhODk5Ni0xMjJmLTRjNzQtOTUyMC04ZWRjZDE5MjgyNmMiLCJkMzdjOGJlZC0wNzExLTQ0MTctYmEzOC1iNGFiZTY2Y2U0YzIiLCJiNzlmYmY0ZC0zZWY5LTQ2ODktODE0My03NmIxOTRlODU1MDkiXSwieG1zX2lkcmVsIjoiMSAyMCJ9.RMe0CE_dxFUOzeQHpsTiTBNsuAZReV1KJYHpdm1QdBgC664ekXbVUDhvz1eYLAxdexxB1so1f_eeGsVgHuemLJVZyJGPZvPpWKaiznpNCee1XNGioE7X4ZgjFT0cSLWVibjLs9nnzZV4oBhm4G4rjaVCplMi8MylvdX-u-Wu7AEgJmt_vmKh1U8ivZnH23VDbWUP_Q94zu2COGBPp2uMloYQBxHHp0fVpoZY38BD2SY1U1YQ3TgVQlc7_uokhsmA6UF5A4vzh3js6mByYBY9tHx0x2ghVPhLCWj0arch4IDc4EHDtUHAmAV6yN6jKImTjqpZ1ie7lZY7ZDA00ruG8w",
        "datasetId": null,
        "embedUrl": "https://app.powerbi.com/reportEmbed?reportId=529251d3-fa51-4a36-b5c4-962beb483da0&groupId=7ee38267-f96d-465f-8136-059500134f0d&w=2&config=eyJjbHVzdGVyVXJsIjoiaHR0cHM6Ly9XQUJJLVVTLU5PUlRILUNFTlRSQUwtRy1QUklNQVJZLXJlZGlyZWN0LmFuYWx5c2lzLndpbmRvd3MubmV0IiwiZW1iZWRGZWF0dXJlcyI6eyJ1c2FnZU1ldHJpY3NWTmV4dCI6dHJ1ZX19",
        "permissions": null,
        "tokenType": 0,
        "type": "report",
        "viewMode": 0
       },
       "_embedded": true,
       "_event_data": {
        "event_details": null,
        "event_name": "rendered"
       },
       "_export_visual_data_request": {
        "exportDataType": null,
        "pageName": null,
        "rows": null,
        "visualName": null
       },
       "_get_visuals_page_name": "",
       "_init_error": "",
       "_report_active_page": "",
       "_report_bookmark_name": "",
       "_token_expired": true,
       "_visual_data": "",
       "layout": "IPY_MODEL_236153c9530946909840634ae067bbdb"
      }
     },
     "90d31bdc647847f7860bf95f5877d94a": {
      "model_module": "@jupyter-widgets/controls",
      "model_module_version": "2.0.0",
      "model_name": "TextModel",
      "state": {
       "description": "Original field:",
       "layout": "IPY_MODEL_7b486ebd4f194e0f916449826ecc47f5",
       "style": "IPY_MODEL_7be890abdf564293998f21e3085c00d4",
       "value": "Profit2"
      }
     },
     "94e556e945ee4cf88fb7371023a0f784": {
      "model_module": "@jupyter-widgets/controls",
      "model_module_version": "2.0.0",
      "model_name": "TextStyleModel",
      "state": {
       "description_width": "",
       "font_size": null,
       "text_color": null
      }
     },
     "9e8d5d6b26c24a018b1563e9465a1a5e": {
      "model_module": "@jupyter-widgets/base",
      "model_module_version": "2.0.0",
      "model_name": "LayoutModel",
      "state": {}
     },
     "a04dc5f7579d49bda415955708461519": {
      "model_module": "@jupyter-widgets/controls",
      "model_module_version": "2.0.0",
      "model_name": "TextModel",
      "state": {
       "description": "Report:",
       "layout": "IPY_MODEL_1655e90d7625490c88feb6d26ed6ad7e",
       "style": "IPY_MODEL_1839245771854893a62fa296a4f39593",
       "value": "Field Replace"
      }
     },
     "a634f383e2a84d6dbe00b32730dbfad0": {
      "model_module": "@jupyter-widgets/controls",
      "model_module_version": "2.0.0",
      "model_name": "TextStyleModel",
      "state": {
       "description_width": "",
       "font_size": null,
       "text_color": null
      }
     },
     "a962f13051034262ae3abdabc32d8c12": {
      "model_module": "powerbi-jupyter-client",
      "model_module_version": "3.1.1",
      "model_name": "ReportModel",
      "state": {
       "_client_error": "",
       "_embed_config": {
        "accessToken": "eyJ0eXAiOiJKV1QiLCJhbGciOiJSUzI1NiIsIng1dCI6IjNQYUs0RWZ5Qk5RdTNDdGpZc2EzWW1oUTVFMCIsImtpZCI6IjNQYUs0RWZ5Qk5RdTNDdGpZc2EzWW1oUTVFMCJ9.eyJhdWQiOiJodHRwczovL2FuYWx5c2lzLndpbmRvd3MubmV0L3Bvd2VyYmkvYXBpIiwiaXNzIjoiaHR0cHM6Ly9zdHMud2luZG93cy5uZXQvODc3YzM0YjktZGM0My00YzBhLTg3YzMtODBkNzA3YWJjNjcxLyIsImlhdCI6MTczMTAwNDM3NiwibmJmIjoxNzMxMDA0Mzc2LCJleHAiOjE3MzEwMDg3NTYsImFjY3QiOjAsImFjciI6IjEiLCJhaW8iOiJBVlFBcS84WUFBQUFyaGFEdGpwYm5obW5YTkxLS2k2aU8wYVJxcmZkbEhMczBhTnJRNjJFNlU2YkhxdHpLcXBncnVmaVp4dGVOSXdLWHIzL3BsdmdMeWphYU9ZVkRXRlVsR1BPcTN6ZjFocm82WC9EZHh3UXJ3VT0iLCJhbXIiOlsicHdkIiwibWZhIl0sImFwcGlkIjoiOTQzZGE5NzEtMzc4Ni00MTJlLWExODQtZWMzZGVkYTc5YTZmIiwiYXBwaWRhY3IiOiIyIiwiZmFtaWx5X25hbWUiOiJMIiwiZ2l2ZW5fbmFtZSI6Ik0iLCJpZHR5cCI6InVzZXIiLCJpcGFkZHIiOiI3Ni4xMzEuNTYuMTk5IiwibmFtZSI6Ik1MIEFkbWluIiwib2lkIjoiOTRjMDM2NGMtNjBmNi00MjgzLTllNTItOWEzNTY2ZWY4YzA3IiwicHVpZCI6IjEwMDMyMDAwNDY4QzgyRjYiLCJyaCI6IjEuQVJjQXVUUjhoMFBjQ2t5SHc0RFhCNnZHY1FrQUFBQUFBQUFBd0FBQUFBQUFBQUJvQVVZWEFBLiIsInNjcCI6InVzZXJfaW1wZXJzb25hdGlvbiIsInN1YiI6ImRBVUxzTU5QX3F4YW5Ja2tpMUU2R2lOektBZGdFa2FGWVczb1daeTlRS0UiLCJ0aWQiOiI4NzdjMzRiOS1kYzQzLTRjMGEtODdjMy04MGQ3MDdhYmM2NzEiLCJ1bmlxdWVfbmFtZSI6Ik1MYWRtaW5AZGF0YXNhdnZ5Lm1lIiwidXBuIjoiTUxhZG1pbkBkYXRhc2F2dnkubWUiLCJ1dGkiOiJSYkV1bmtnNUZrS3NHcUg0Z3Z5SkFBIiwidmVyIjoiMS4wIiwid2lkcyI6WyI2MmU5MDM5NC02OWY1LTQyMzctOTE5MC0wMTIxNzcxNDVlMTAiLCJhOWVhODk5Ni0xMjJmLTRjNzQtOTUyMC04ZWRjZDE5MjgyNmMiLCJkMzdjOGJlZC0wNzExLTQ0MTctYmEzOC1iNGFiZTY2Y2U0YzIiLCJiNzlmYmY0ZC0zZWY5LTQ2ODktODE0My03NmIxOTRlODU1MDkiXSwieG1zX2lkcmVsIjoiMTggMSJ9.G4s2CZDbD7vLV_7lf2K-WXlL07QQp8BIIWmYucA0HRNswkxQkUvg5F4488QlUK17r50WjRgh95kLI_LCGyuLOiY6-nUJe9o0eUo4ASoXeDmbIRTz0JG0FdEd9qXPJpZ0MjfbRFQSmKdh5CxR55axePvjTUpE2LhAsxcAnFUuexyHvD3CJclaLPmM0X8FkbvHuLdkC8y3pbBNYysEJ72EnJoOHZKlZ-sGVSZieelP7s152pRaI5Ui_1yK2DWgYedAG-a3wqvZchJyvIPJ--p6-gASeP-UcSHSZ7QJPHXCEprxIKtiTMp3bUIlFnJStM8II11l-ArPWOj2mr8JiczDNw",
        "datasetId": null,
        "embedUrl": "https://app.powerbi.com/reportEmbed?reportId=529251d3-fa51-4a36-b5c4-962beb483da0&groupId=7ee38267-f96d-465f-8136-059500134f0d&w=2&config=eyJjbHVzdGVyVXJsIjoiaHR0cHM6Ly9XQUJJLVVTLU5PUlRILUNFTlRSQUwtRy1QUklNQVJZLXJlZGlyZWN0LmFuYWx5c2lzLndpbmRvd3MubmV0IiwiZW1iZWRGZWF0dXJlcyI6eyJ1c2FnZU1ldHJpY3NWTmV4dCI6dHJ1ZX19",
        "permissions": null,
        "tokenType": 0,
        "type": "report",
        "viewMode": 0
       },
       "_embedded": true,
       "_event_data": {
        "event_details": null,
        "event_name": "rendered"
       },
       "_export_visual_data_request": {
        "exportDataType": null,
        "pageName": null,
        "rows": null,
        "visualName": null
       },
       "_get_visuals_page_name": "",
       "_init_error": "",
       "_report_active_page": "",
       "_report_bookmark_name": "",
       "_visual_data": "",
       "layout": "IPY_MODEL_8fc7644ed914480883b97e56bc06cba4"
      }
     },
     "bb5289bc2ac34adbb24c36f1b9330900": {
      "model_module": "powerbi-jupyter-client",
      "model_module_version": "3.1.1",
      "model_name": "ReportModel",
      "state": {
       "_client_error": "",
       "_embed_config": {
        "accessToken": "eyJ0eXAiOiJKV1QiLCJhbGciOiJSUzI1NiIsIng1dCI6IjNQYUs0RWZ5Qk5RdTNDdGpZc2EzWW1oUTVFMCIsImtpZCI6IjNQYUs0RWZ5Qk5RdTNDdGpZc2EzWW1oUTVFMCJ9.eyJhdWQiOiJodHRwczovL2FuYWx5c2lzLndpbmRvd3MubmV0L3Bvd2VyYmkvYXBpIiwiaXNzIjoiaHR0cHM6Ly9zdHMud2luZG93cy5uZXQvODc3YzM0YjktZGM0My00YzBhLTg3YzMtODBkNzA3YWJjNjcxLyIsImlhdCI6MTczMTAwNDM3NiwibmJmIjoxNzMxMDA0Mzc2LCJleHAiOjE3MzEwMDg3NTYsImFjY3QiOjAsImFjciI6IjEiLCJhaW8iOiJBVlFBcS84WUFBQUFyaGFEdGpwYm5obW5YTkxLS2k2aU8wYVJxcmZkbEhMczBhTnJRNjJFNlU2YkhxdHpLcXBncnVmaVp4dGVOSXdLWHIzL3BsdmdMeWphYU9ZVkRXRlVsR1BPcTN6ZjFocm82WC9EZHh3UXJ3VT0iLCJhbXIiOlsicHdkIiwibWZhIl0sImFwcGlkIjoiOTQzZGE5NzEtMzc4Ni00MTJlLWExODQtZWMzZGVkYTc5YTZmIiwiYXBwaWRhY3IiOiIyIiwiZmFtaWx5X25hbWUiOiJMIiwiZ2l2ZW5fbmFtZSI6Ik0iLCJpZHR5cCI6InVzZXIiLCJpcGFkZHIiOiI3Ni4xMzEuNTYuMTk5IiwibmFtZSI6Ik1MIEFkbWluIiwib2lkIjoiOTRjMDM2NGMtNjBmNi00MjgzLTllNTItOWEzNTY2ZWY4YzA3IiwicHVpZCI6IjEwMDMyMDAwNDY4QzgyRjYiLCJyaCI6IjEuQVJjQXVUUjhoMFBjQ2t5SHc0RFhCNnZHY1FrQUFBQUFBQUFBd0FBQUFBQUFBQUJvQVVZWEFBLiIsInNjcCI6InVzZXJfaW1wZXJzb25hdGlvbiIsInN1YiI6ImRBVUxzTU5QX3F4YW5Ja2tpMUU2R2lOektBZGdFa2FGWVczb1daeTlRS0UiLCJ0aWQiOiI4NzdjMzRiOS1kYzQzLTRjMGEtODdjMy04MGQ3MDdhYmM2NzEiLCJ1bmlxdWVfbmFtZSI6Ik1MYWRtaW5AZGF0YXNhdnZ5Lm1lIiwidXBuIjoiTUxhZG1pbkBkYXRhc2F2dnkubWUiLCJ1dGkiOiJSYkV1bmtnNUZrS3NHcUg0Z3Z5SkFBIiwidmVyIjoiMS4wIiwid2lkcyI6WyI2MmU5MDM5NC02OWY1LTQyMzctOTE5MC0wMTIxNzcxNDVlMTAiLCJhOWVhODk5Ni0xMjJmLTRjNzQtOTUyMC04ZWRjZDE5MjgyNmMiLCJkMzdjOGJlZC0wNzExLTQ0MTctYmEzOC1iNGFiZTY2Y2U0YzIiLCJiNzlmYmY0ZC0zZWY5LTQ2ODktODE0My03NmIxOTRlODU1MDkiXSwieG1zX2lkcmVsIjoiMTggMSJ9.G4s2CZDbD7vLV_7lf2K-WXlL07QQp8BIIWmYucA0HRNswkxQkUvg5F4488QlUK17r50WjRgh95kLI_LCGyuLOiY6-nUJe9o0eUo4ASoXeDmbIRTz0JG0FdEd9qXPJpZ0MjfbRFQSmKdh5CxR55axePvjTUpE2LhAsxcAnFUuexyHvD3CJclaLPmM0X8FkbvHuLdkC8y3pbBNYysEJ72EnJoOHZKlZ-sGVSZieelP7s152pRaI5Ui_1yK2DWgYedAG-a3wqvZchJyvIPJ--p6-gASeP-UcSHSZ7QJPHXCEprxIKtiTMp3bUIlFnJStM8II11l-ArPWOj2mr8JiczDNw",
        "datasetId": null,
        "embedUrl": "https://app.powerbi.com/reportEmbed?reportId=529251d3-fa51-4a36-b5c4-962beb483da0&groupId=7ee38267-f96d-465f-8136-059500134f0d&w=2&config=eyJjbHVzdGVyVXJsIjoiaHR0cHM6Ly9XQUJJLVVTLU5PUlRILUNFTlRSQUwtRy1QUklNQVJZLXJlZGlyZWN0LmFuYWx5c2lzLndpbmRvd3MubmV0IiwiZW1iZWRGZWF0dXJlcyI6eyJ1c2FnZU1ldHJpY3NWTmV4dCI6dHJ1ZX19",
        "permissions": null,
        "tokenType": 0,
        "type": "report",
        "viewMode": 0
       },
       "_embedded": true,
       "_event_data": {
        "event_details": null,
        "event_name": "rendered"
       },
       "_export_visual_data_request": {
        "exportDataType": null,
        "pageName": null,
        "rows": null,
        "visualName": null
       },
       "_get_visuals_page_name": "",
       "_init_error": "",
       "_report_active_page": "",
       "_report_bookmark_name": "",
       "_visual_data": "",
       "layout": "IPY_MODEL_7ffae3f287e3486fae871a7f3e98dc58"
      }
     },
     "bc358550296f4948bb88deed5b248cca": {
      "model_module": "@jupyter-widgets/base",
      "model_module_version": "2.0.0",
      "model_name": "LayoutModel",
      "state": {}
     },
     "c8d7a630e1334afa9765da77748509f3": {
      "model_module": "@jupyter-widgets/base",
      "model_module_version": "2.0.0",
      "model_name": "LayoutModel",
      "state": {}
     },
     "daeea8195f6841fdbee29dac22062bab": {
      "model_module": "@jupyter-widgets/base",
      "model_module_version": "2.0.0",
      "model_name": "LayoutModel",
      "state": {}
     },
     "e4c62e4aff0a427380d2910ceda8c9fc": {
      "model_module": "powerbi-jupyter-client",
      "model_module_version": "3.1.1",
      "model_name": "ReportModel",
      "state": {
       "_client_error": "",
       "_embed_config": {
        "accessToken": "eyJ0eXAiOiJKV1QiLCJhbGciOiJSUzI1NiIsIng1dCI6IjNQYUs0RWZ5Qk5RdTNDdGpZc2EzWW1oUTVFMCIsImtpZCI6IjNQYUs0RWZ5Qk5RdTNDdGpZc2EzWW1oUTVFMCJ9.eyJhdWQiOiJodHRwczovL2FuYWx5c2lzLndpbmRvd3MubmV0L3Bvd2VyYmkvYXBpIiwiaXNzIjoiaHR0cHM6Ly9zdHMud2luZG93cy5uZXQvODc3YzM0YjktZGM0My00YzBhLTg3YzMtODBkNzA3YWJjNjcxLyIsImlhdCI6MTczMTAwNDM3NiwibmJmIjoxNzMxMDA0Mzc2LCJleHAiOjE3MzEwMDg3NTYsImFjY3QiOjAsImFjciI6IjEiLCJhaW8iOiJBVlFBcS84WUFBQUFyaGFEdGpwYm5obW5YTkxLS2k2aU8wYVJxcmZkbEhMczBhTnJRNjJFNlU2YkhxdHpLcXBncnVmaVp4dGVOSXdLWHIzL3BsdmdMeWphYU9ZVkRXRlVsR1BPcTN6ZjFocm82WC9EZHh3UXJ3VT0iLCJhbXIiOlsicHdkIiwibWZhIl0sImFwcGlkIjoiOTQzZGE5NzEtMzc4Ni00MTJlLWExODQtZWMzZGVkYTc5YTZmIiwiYXBwaWRhY3IiOiIyIiwiZmFtaWx5X25hbWUiOiJMIiwiZ2l2ZW5fbmFtZSI6Ik0iLCJpZHR5cCI6InVzZXIiLCJpcGFkZHIiOiI3Ni4xMzEuNTYuMTk5IiwibmFtZSI6Ik1MIEFkbWluIiwib2lkIjoiOTRjMDM2NGMtNjBmNi00MjgzLTllNTItOWEzNTY2ZWY4YzA3IiwicHVpZCI6IjEwMDMyMDAwNDY4QzgyRjYiLCJyaCI6IjEuQVJjQXVUUjhoMFBjQ2t5SHc0RFhCNnZHY1FrQUFBQUFBQUFBd0FBQUFBQUFBQUJvQVVZWEFBLiIsInNjcCI6InVzZXJfaW1wZXJzb25hdGlvbiIsInN1YiI6ImRBVUxzTU5QX3F4YW5Ja2tpMUU2R2lOektBZGdFa2FGWVczb1daeTlRS0UiLCJ0aWQiOiI4NzdjMzRiOS1kYzQzLTRjMGEtODdjMy04MGQ3MDdhYmM2NzEiLCJ1bmlxdWVfbmFtZSI6Ik1MYWRtaW5AZGF0YXNhdnZ5Lm1lIiwidXBuIjoiTUxhZG1pbkBkYXRhc2F2dnkubWUiLCJ1dGkiOiJSYkV1bmtnNUZrS3NHcUg0Z3Z5SkFBIiwidmVyIjoiMS4wIiwid2lkcyI6WyI2MmU5MDM5NC02OWY1LTQyMzctOTE5MC0wMTIxNzcxNDVlMTAiLCJhOWVhODk5Ni0xMjJmLTRjNzQtOTUyMC04ZWRjZDE5MjgyNmMiLCJkMzdjOGJlZC0wNzExLTQ0MTctYmEzOC1iNGFiZTY2Y2U0YzIiLCJiNzlmYmY0ZC0zZWY5LTQ2ODktODE0My03NmIxOTRlODU1MDkiXSwieG1zX2lkcmVsIjoiMTggMSJ9.G4s2CZDbD7vLV_7lf2K-WXlL07QQp8BIIWmYucA0HRNswkxQkUvg5F4488QlUK17r50WjRgh95kLI_LCGyuLOiY6-nUJe9o0eUo4ASoXeDmbIRTz0JG0FdEd9qXPJpZ0MjfbRFQSmKdh5CxR55axePvjTUpE2LhAsxcAnFUuexyHvD3CJclaLPmM0X8FkbvHuLdkC8y3pbBNYysEJ72EnJoOHZKlZ-sGVSZieelP7s152pRaI5Ui_1yK2DWgYedAG-a3wqvZchJyvIPJ--p6-gASeP-UcSHSZ7QJPHXCEprxIKtiTMp3bUIlFnJStM8II11l-ArPWOj2mr8JiczDNw",
        "datasetId": null,
        "embedUrl": "https://app.powerbi.com/reportEmbed?reportId=529251d3-fa51-4a36-b5c4-962beb483da0&groupId=7ee38267-f96d-465f-8136-059500134f0d&w=2&config=eyJjbHVzdGVyVXJsIjoiaHR0cHM6Ly9XQUJJLVVTLU5PUlRILUNFTlRSQUwtRy1QUklNQVJZLXJlZGlyZWN0LmFuYWx5c2lzLndpbmRvd3MubmV0IiwiZW1iZWRGZWF0dXJlcyI6eyJ1c2FnZU1ldHJpY3NWTmV4dCI6dHJ1ZX19",
        "permissions": null,
        "tokenType": 0,
        "type": "report",
        "viewMode": 0
       },
       "_embedded": true,
       "_event_data": {
        "event_details": null,
        "event_name": "rendered"
       },
       "_export_visual_data_request": {
        "exportDataType": null,
        "pageName": null,
        "rows": null,
        "visualName": null
       },
       "_get_visuals_page_name": "",
       "_init_error": "",
       "_report_active_page": "",
       "_report_bookmark_name": "",
       "_visual_data": "",
       "layout": "IPY_MODEL_06445779a07f48bf907c15308384a4f6"
      }
     }
    },
    "version_major": 2,
    "version_minor": 0
   }
  }
 },
 "nbformat": 4,
 "nbformat_minor": 5
}
